{
 "cells": [
  {
   "cell_type": "code",
   "execution_count": null,
   "metadata": {},
   "outputs": [],
   "source": [
    "%matplotlib inline"
   ]
  },
  {
   "cell_type": "code",
   "execution_count": null,
   "metadata": {},
   "outputs": [],
   "source": [
    "import os\n",
    "import numpy as np\n",
    "import matplotlib\n",
    "import urllib.request\n",
    "import time\n",
    "\n",
    "import radarkit\n",
    "import algorithms\n",
    "import chart\n",
    "import data"
   ]
  },
  {
   "cell_type": "code",
   "execution_count": null,
   "metadata": {},
   "outputs": [],
   "source": [
    "# Read in data files\n",
    "filename = data.file()\n",
    "sweep = radarkit.read(filename)\n",
    "z = sweep['products']['Z']['data']\n",
    "d = sweep['products']['D']['data']\n",
    "p = sweep['products']['P']['data']\n",
    "\n",
    "# Some other parameters from the sweep data\n",
    "gateSpacing = 1.0e-3 * sweep['gateSizeMeters']\n",
    "downSamplingRatio = int(sweep['gateSizeMeters'] / 30.0)"
   ]
  },
  {
   "cell_type": "markdown",
   "metadata": {},
   "source": [
    "## Calibration / Data Extraction"
   ]
  },
  {
   "cell_type": "code",
   "execution_count": null,
   "metadata": {},
   "outputs": [],
   "source": [
    "# Undo range correction and the ZCal in DSP to estimate the SNR\n",
    "rr = 1.0e-3 * (np.arange(sweep['gateCount']) + 0.5) * sweep['gateSizeMeters']\n",
    "snr = z - 20.0 * np.log10(rr) + 23\n",
    "\n",
    "# Transition gate at 10.5 km at the given spacing\n",
    "g = int((69.0e-6 * 3.0e8 * 0.5) / 30.0) + 5\n",
    "g = int((g + downSamplingRatio - 1) / downSamplingRatio)\n",
    "\n",
    "print(g)\n",
    "\n",
    "z_off = 10.0 * np.log10(1.5 / 67)\n",
    "snr[:, :g] = snr[:, :g] + z_off\n",
    "\n",
    "# PhiDP calibration so that the transition is smooth and PhiDP starts ~ 0 deg\n",
    "p[:, :g] = p[:, :g] + 40;\n",
    "p[:, g:] = p[:, g:] + 44;"
   ]
  },
  {
   "cell_type": "markdown",
   "metadata": {},
   "source": [
    "## Calling the Algorithm Function"
   ]
  },
  {
   "cell_type": "code",
   "execution_count": null,
   "metadata": {},
   "outputs": [],
   "source": [
    "tic = time.time()\n",
    "zc, dc = algorithms.zphi(z, d, p)\n",
    "toc = time.time()\n",
    "print('Elapsed time = {} s'.format(toc - tic))"
   ]
  },
  {
   "cell_type": "markdown",
   "metadata": {},
   "source": [
    "## Visualization"
   ]
  },
  {
   "cell_type": "code",
   "execution_count": null,
   "metadata": {
    "scrolled": false
   },
   "outputs": [],
   "source": [
    "# Original range (km) and zimuth (rad) of the data\n",
    "rr = 1.0e-3 * sweep['range']\n",
    "aa = sweep['azimuth'] * (np.pi / 180.0)\n",
    "\n",
    "# Plot using chart.Chart()\n",
    "_ = chart.Chart(aa, rr, z, style='Z')\n",
    "_ = chart.Chart(aa, rr, zc, style='Z', title='Corrected Z (dBZ)')\n",
    "_ = chart.Chart(aa, rr, d, style='D')\n",
    "_ = chart.Chart(aa, rr, dc, style='D', title='Corrected ZDR (dBZ)')"
   ]
  },
  {
   "cell_type": "code",
   "execution_count": null,
   "metadata": {},
   "outputs": [],
   "source": []
  }
 ],
 "metadata": {
  "kernelspec": {
   "display_name": "Python 3",
   "language": "python",
   "name": "python3"
  },
  "language_info": {
   "codemirror_mode": {
    "name": "ipython",
    "version": 3
   },
   "file_extension": ".py",
   "mimetype": "text/x-python",
   "name": "python",
   "nbconvert_exporter": "python",
   "pygments_lexer": "ipython3",
   "version": "3.6.5"
  }
 },
 "nbformat": 4,
 "nbformat_minor": 2
}
