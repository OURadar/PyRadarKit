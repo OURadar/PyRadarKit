{
 "cells": [
  {
   "cell_type": "code",
   "execution_count": null,
   "metadata": {
    "collapsed": true
   },
   "outputs": [],
   "source": [
    "import numpy as np\n",
    "import matplotlib\n",
    "import matplotlib.pyplot as plt"
   ]
  },
  {
   "cell_type": "markdown",
   "metadata": {},
   "source": [
    "Some data:\n",
    " - Colormap\n",
    " - (azimuth, range) coordinate\n",
    " - (x, y) equivalent in Cartesian coordinate\n",
    " - Some face reflectivity values"
   ]
  },
  {
   "cell_type": "code",
   "execution_count": null,
   "metadata": {
    "collapsed": true
   },
   "outputs": [],
   "source": [
    "bgColor = (0.89, 0.87, 0.83)\n",
    "zmap = [\n",
    "    bgColor,\n",
    "    (0.20, 1.00, 1.00),\n",
    "    (0.20, 0.60, 1.00),\n",
    "    (0.00, 0.00, 1.00),\n",
    "    (0.30, 1.00, 0.00),\n",
    "    (0.10, 0.80, 0.00),\n",
    "    (0.00, 0.60, 0.00),\n",
    "    (1.00, 1.00, 0.00),\n",
    "    (1.00, 0.75, 0.00),\n",
    "    (1.00, 0.50, 0.00),\n",
    "    (1.00, 0.00, 0.00),\n",
    "    (0.75, 0.00, 0.00),\n",
    "    (0.50, 0.00, 0.00),\n",
    "    (1.00, 0.00, 0.80),\n",
    "    (0.60, 0.30, 1.00),\n",
    "    (1.00, 1.00, 1.00)\n",
    "]\n",
    "cmap = matplotlib.colors.LinearSegmentedColormap.from_list('zmap', zmap, N=len(zmap))\n",
    "a, r = np.mgrid[slice(0, 2.0 * np.pi,  np.pi / 180.0), slice(0, 1000, 0.25)]\n",
    "x = r * np.sin(a)\n",
    "y = r * np.cos(a)\n",
    "z = r * 0.075\n",
    "# Duplicate the first azimuth and append it to the end\n",
    "xx = np.append(x, x[0:1, :], axis=0)\n",
    "yy = np.append(y, y[0:1, :], axis=0)\n",
    "zz = np.append(z, z[0:1, :], axis=0)"
   ]
  },
  {
   "cell_type": "code",
   "execution_count": null,
   "metadata": {
    "collapsed": true
   },
   "outputs": [],
   "source": [
    "%matplotlib inline"
   ]
  },
  {
   "cell_type": "code",
   "execution_count": null,
   "metadata": {
    "collapsed": true
   },
   "outputs": [],
   "source": [
    "def showPPI(x, y, v):\n",
    "    w = 6\n",
    "    h = 6.5\n",
    "    fig = plt.figure(figsize=(w, h), dpi=144, facecolor=None)\n",
    "    if w > h:\n",
    "        rect = [0.14, 0.1, 0.8 * h / w, 0.8]\n",
    "    else:\n",
    "        rect = [0.14, 0.1, 0.8, 0.8 * w / h]\n",
    "    rect = [round(x * 72.0) / 72.0 + 0.5 / 72.0 for x in rect]\n",
    "    ax = plt.axes(rect, facecolor=bgColor)\n",
    "    pc = plt.pcolormesh(x, y, v, vmin=0.0, vmax=80.0, axes=ax, cmap=cmap)\n",
    "    ax2 = plt.axes(rect, facecolor=None, frameon=False, sharex=ax, sharey=ax)\n",
    "    plt.xlabel('X Distance (km)', axes=ax2)\n",
    "    plt.ylabel('Y Distance (km)', axes=ax2)\n",
    "    # pos = fig.add_axes((0.88, 0.3, 0.03, 0.5))\n",
    "    cax = fig.add_axes((rect[0], rect[1] + rect[3] + 0.06, rect[2], 0.03))\n",
    "    cb = plt.colorbar(ax=ax2, cax=cax, orientation='horizontal')\n",
    "    # ax2.set_title('Example Reflectivity')\n",
    "    cax.set_title('Example Reflectivity (dBZ)')\n",
    "    dic = {'figure':fig, 'axes':ax, 'pcolor':pc, 'coloraxes':cax, 'colobar':cb}\n",
    "    return dic"
   ]
  },
  {
   "cell_type": "code",
   "execution_count": null,
   "metadata": {
    "collapsed": true
   },
   "outputs": [],
   "source": [
    "# matplotlib.rcParams['font.family'] = 'sans-serif'\n",
    "matplotlib.rcParams['font.family'] = 'serif'\n",
    "matplotlib.rcParams['font.serif'] = ['Arial']\n",
    "matplotlib.rcParams['font.sans-serif'] = ['System Font', 'Verdana', 'Arial']\n",
    "matplotlib.rc('text', usetex=False)"
   ]
  },
  {
   "cell_type": "code",
   "execution_count": null,
   "metadata": {},
   "outputs": [],
   "source": [
    "ppi = showPPI(xx, yy, z)\n",
    "plt.show()"
   ]
  },
  {
   "cell_type": "code",
   "execution_count": null,
   "metadata": {
    "collapsed": true
   },
   "outputs": [],
   "source": [
    "zmod = z\n",
    "zmod[z < 10] = -999.0\n",
    "zmod[0:20, :] = -999.0"
   ]
  },
  {
   "cell_type": "code",
   "execution_count": null,
   "metadata": {},
   "outputs": [],
   "source": [
    "ppi"
   ]
  },
  {
   "cell_type": "code",
   "execution_count": null,
   "metadata": {},
   "outputs": [],
   "source": [
    "ppi = showPPI(xx, yy, zmod)\n",
    "ppi['axes'].set_ylim([-900, 900])\n",
    "ppi['axes'].set_xlim([-900, 900])\n",
    "ppi['figure'].patch.set_facecolor(bgColor)\n",
    "ppi['figure'].patch.set_alpha(0.2)\n",
    "plt.show()"
   ]
  },
  {
   "cell_type": "code",
   "execution_count": null,
   "metadata": {
    "collapsed": true
   },
   "outputs": [],
   "source": []
  }
 ],
 "metadata": {
  "kernelspec": {
   "display_name": "Python 3",
   "language": "python",
   "name": "python3"
  },
  "language_info": {
   "codemirror_mode": {
    "name": "ipython",
    "version": 3
   },
   "file_extension": ".py",
   "mimetype": "text/x-python",
   "name": "python",
   "nbconvert_exporter": "python",
   "pygments_lexer": "ipython3",
   "version": "3.6.2"
  }
 },
 "nbformat": 4,
 "nbformat_minor": 2
}
