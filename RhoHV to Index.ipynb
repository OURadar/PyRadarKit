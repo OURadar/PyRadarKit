{
 "cells": [
  {
   "cell_type": "code",
   "execution_count": null,
   "metadata": {
    "collapsed": true
   },
   "outputs": [],
   "source": [
    "%matplotlib inline"
   ]
  },
  {
   "cell_type": "code",
   "execution_count": null,
   "metadata": {
    "collapsed": true
   },
   "outputs": [],
   "source": [
    "import os\n",
    "import sys\n",
    "import numpy as np\n",
    "import matplotlib\n",
    "\n",
    "if not sys.version_info.major is 3:\n",
    "    print('PyRadarKit requires Python 3')\n",
    "    raise"
   ]
  },
  {
   "cell_type": "code",
   "execution_count": null,
   "metadata": {
    "collapsed": true
   },
   "outputs": [],
   "source": [
    "import data\n",
    "import chart\n",
    "import radarkit"
   ]
  },
  {
   "cell_type": "code",
   "execution_count": null,
   "metadata": {
    "collapsed": true
   },
   "outputs": [],
   "source": [
    "matplotlib.rcParams['font.family'] = 'serif'\n",
    "matplotlib.rcParams['font.serif'] = ['Arial']\n",
    "matplotlib.rcParams['font.sans-serif'] = ['System Font', 'Verdana', 'Arial']\n",
    "matplotlib.rc('text', usetex=False)"
   ]
  },
  {
   "cell_type": "code",
   "execution_count": null,
   "metadata": {
    "collapsed": true
   },
   "outputs": [],
   "source": [
    "file = data.file()\n",
    "sweep = radarkit.read(file)\n",
    "if sweep is None:\n",
    "    print('Unable to continue.\\n')\n",
    "    raise"
   ]
  },
  {
   "cell_type": "code",
   "execution_count": null,
   "metadata": {},
   "outputs": [],
   "source": [
    "ng = 1000\n",
    "product = sweep['products']['R']\n",
    "symbol = product['symbol']\n",
    "name = product['name']\n",
    "unit = product['unit']\n",
    "data = product['data'][:, 0:ng]\n",
    "data = np.nan_to_num(data)"
   ]
  },
  {
   "cell_type": "code",
   "execution_count": null,
   "metadata": {
    "collapsed": true
   },
   "outputs": [],
   "source": [
    "def rho2ind1(values):\n",
    "    m3 = values > 0.93\n",
    "    m2 = np.logical_and(values > 0.7, ~m3)\n",
    "    m1 = values <= 0.7\n",
    "    index = np.zeros(values.shape);\n",
    "    index[m3] = ((values[m3] - 0.93) * 1000.0) + 106\n",
    "    index[m2] = ((values[m2] - 0.7) * 300) + 37\n",
    "    index[m1] = values[m1] * 52.8751\n",
    "    return np.round(index)\n",
    "\n",
    "def rho2ind2(values):\n",
    "    m3 = values > 0.93\n",
    "    m2 = np.logical_and(values > 0.7, ~m3)\n",
    "    index = values * 52.8751\n",
    "    index[m2] = values[m2] * 300.0 - 173.0\n",
    "    index[m3] = values[m3] * 1000.0 - 824.0\n",
    "    return np.round(index)\n",
    "\n",
    "def rho2ind3(values):\n",
    "    m3 = values > 0.93\n",
    "    m2 = np.logical_and(values > 0.7, ~m3)\n",
    "    m1 = values <= 0.7\n",
    "    w = 1000.0 * m3 + 300.0 * m2 + 52.8751 * m1\n",
    "    b = -824.0 * m3 - 173.0 * m2\n",
    "    index = np.round(w * values + b)\n",
    "    return index"
   ]
  },
  {
   "cell_type": "code",
   "execution_count": null,
   "metadata": {},
   "outputs": [],
   "source": [
    "%timeit ind1a = rho2ind1(data)\n",
    "%timeit ind1b = rho2ind1(data)\n",
    "%timeit ind2a = rho2ind2(data)\n",
    "%timeit ind2b = rho2ind2(data)\n",
    "%timeit ind3a = rho2ind3(data)\n",
    "%timeit ind3b = rho2ind3(data)"
   ]
  },
  {
   "cell_type": "code",
   "execution_count": null,
   "metadata": {
    "collapsed": true
   },
   "outputs": [],
   "source": []
  }
 ],
 "metadata": {
  "kernelspec": {
   "display_name": "Python 3",
   "language": "python",
   "name": "python3"
  },
  "language_info": {
   "codemirror_mode": {
    "name": "ipython",
    "version": 3
   },
   "file_extension": ".py",
   "mimetype": "text/x-python",
   "name": "python",
   "nbconvert_exporter": "python",
   "pygments_lexer": "ipython3",
   "version": "3.6.5"
  }
 },
 "nbformat": 4,
 "nbformat_minor": 2
}
