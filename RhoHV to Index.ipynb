{
 "cells": [
  {
   "cell_type": "code",
   "execution_count": 1,
   "metadata": {},
   "outputs": [],
   "source": [
    "%matplotlib inline"
   ]
  },
  {
   "cell_type": "code",
   "execution_count": 8,
   "metadata": {},
   "outputs": [],
   "source": [
    "import os\n",
    "import sys\n",
    "import numpy as np\n",
    "import matplotlib\n",
    "\n",
    "if not sys.version_info.major is 3:\n",
    "    print('PyRadarKit requires Python 3')\n",
    "    raise"
   ]
  },
  {
   "cell_type": "code",
   "execution_count": 9,
   "metadata": {},
   "outputs": [],
   "source": [
    "import chart\n",
    "import radarkit"
   ]
  },
  {
   "cell_type": "code",
   "execution_count": 10,
   "metadata": {},
   "outputs": [],
   "source": [
    "matplotlib.rcParams['font.family'] = 'serif'\n",
    "matplotlib.rcParams['font.serif'] = ['Arial']\n",
    "matplotlib.rcParams['font.sans-serif'] = ['System Font', 'Verdana', 'Arial']\n",
    "matplotlib.rc('text', usetex=False)"
   ]
  },
  {
   "cell_type": "code",
   "execution_count": 11,
   "metadata": {},
   "outputs": [],
   "source": [
    "sweep = radarkit.read('/Users/boonleng/Downloads/PX-20170220-050706-E2.4-Z.nc')\n",
    "if sweep is None:\n",
    "    print('Unable to continue.\\n')\n",
    "    raise"
   ]
  },
  {
   "cell_type": "code",
   "execution_count": 25,
   "metadata": {},
   "outputs": [],
   "source": [
    "for product in sweep['products']:\n",
    "    symbol = product['symbol']\n",
    "    if not 'R' is product['symbol']:\n",
    "        continue\n",
    "    name = product['name']\n",
    "    unit = product['unit']\n",
    "    data = product['data'][:, 0:ng]\n",
    "data = np.nan_to_num(data)"
   ]
  },
  {
   "cell_type": "code",
   "execution_count": 26,
   "metadata": {},
   "outputs": [],
   "source": [
    "def rho2ind1(values):\n",
    "    m3 = values > 0.93\n",
    "    m2 = np.logical_and(values > 0.7, ~m3)\n",
    "    m1 = values <= 0.7\n",
    "    index = np.zeros(values.shape);\n",
    "    index[m3] = ((values[m3] - 0.93) * 1000.0) + 106\n",
    "    index[m2] = ((values[m2] - 0.7) * 300) + 37\n",
    "    index[m1] = values[m1] * 52.8751\n",
    "    return np.round(index)\n",
    "\n",
    "def rho2ind2(values):\n",
    "    m3 = values > 0.93\n",
    "    m2 = np.logical_and(values > 0.7, ~m3)\n",
    "    index = values * 52.8751\n",
    "    index[m2] = values[m2] * 300.0 - 173.0\n",
    "    index[m3] = values[m3] * 1000.0 - 824.0\n",
    "    return np.round(index)\n",
    "\n",
    "def rho2ind3(values):\n",
    "    m3 = values > 0.93\n",
    "    m2 = np.logical_and(values > 0.7, ~m3)\n",
    "    m1 = values <= 0.7\n",
    "    w = 1000.0 * m3 + 300.0 * m2 + 52.8751 * m1\n",
    "    b = -824.0 * m3 - 173.0 * m2\n",
    "    index = np.round(w * values + b)\n",
    "    return index"
   ]
  },
  {
   "cell_type": "code",
   "execution_count": 27,
   "metadata": {},
   "outputs": [
    {
     "name": "stdout",
     "output_type": "stream",
     "text": [
      "2.17 ms ± 8.69 µs per loop (mean ± std. dev. of 7 runs, 100 loops each)\n",
      "2.17 ms ± 4.92 µs per loop (mean ± std. dev. of 7 runs, 100 loops each)\n",
      "1.86 ms ± 2.41 µs per loop (mean ± std. dev. of 7 runs, 1000 loops each)\n",
      "1.86 ms ± 3.13 µs per loop (mean ± std. dev. of 7 runs, 1000 loops each)\n",
      "2.56 ms ± 31.3 µs per loop (mean ± std. dev. of 7 runs, 100 loops each)\n",
      "2.55 ms ± 2.86 µs per loop (mean ± std. dev. of 7 runs, 100 loops each)\n"
     ]
    }
   ],
   "source": [
    "%timeit ind1a = rho2ind1(data)\n",
    "%timeit ind1b = rho2ind1(data)\n",
    "%timeit ind2a = rho2ind2(data)\n",
    "%timeit ind2b = rho2ind2(data)\n",
    "%timeit ind3a = rho2ind3(data)\n",
    "%timeit ind3b = rho2ind3(data)"
   ]
  },
  {
   "cell_type": "code",
   "execution_count": null,
   "metadata": {},
   "outputs": [],
   "source": []
  }
 ],
 "metadata": {
  "kernelspec": {
   "display_name": "Python 3",
   "language": "python",
   "name": "python3"
  },
  "language_info": {
   "codemirror_mode": {
    "name": "ipython",
    "version": 3
   },
   "file_extension": ".py",
   "mimetype": "text/x-python",
   "name": "python",
   "nbconvert_exporter": "python",
   "pygments_lexer": "ipython3",
   "version": "3.6.5"
  }
 },
 "nbformat": 4,
 "nbformat_minor": 2
}
