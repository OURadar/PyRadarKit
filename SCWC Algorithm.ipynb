{
 "cells": [
  {
   "cell_type": "code",
   "execution_count": null,
   "metadata": {},
   "outputs": [],
   "source": [
    "%matplotlib inline"
   ]
  },
  {
   "cell_type": "code",
   "execution_count": null,
   "metadata": {},
   "outputs": [],
   "source": [
    "import sys\n",
    "import numpy as np\n",
    "import scipy as sp\n",
    "import scipy.signal\n",
    "import radarkit\n",
    "import chart\n",
    "import matplotlib\n",
    "import matplotlib.pyplot as plt\n",
    "import time"
   ]
  },
  {
   "cell_type": "code",
   "execution_count": null,
   "metadata": {},
   "outputs": [],
   "source": [
    "matplotlib.rcParams['font.family'] = 'serif'\n",
    "matplotlib.rcParams['font.serif'] = ['Arial', 'Helvetica']\n",
    "matplotlib.rcParams['font.sans-serif'] = ['System Font', 'Verdana', 'Arial']\n",
    "matplotlib.rcParams['figure.figsize'] = (8.89, 5)   # Change the size of plots\n",
    "matplotlib.rcParams['figure.dpi'] = 144"
   ]
  },
  {
   "cell_type": "code",
   "execution_count": null,
   "metadata": {},
   "outputs": [],
   "source": [
    "sweep = radarkit.read('/Users/boonleng/Downloads/PX-20170220-050706-E2.4-Z.nc')\n",
    "\n",
    "z = sweep['products']['Z']['data']\n",
    "d = sweep['products']['D']['data']\n",
    "p = sweep['products']['P']['data']\n",
    "r = sweep['products']['R']['data']"
   ]
  },
  {
   "cell_type": "code",
   "execution_count": null,
   "metadata": {},
   "outputs": [],
   "source": [
    "w = 20                                 # Window length for smoothing\n",
    "st = 3                                 # SNR threshold\n",
    "rt = 0.85                              # RhoHV threshold\n",
    "vt = 20.0                              # Threshold of local variance of delta Phi\n",
    "alpha = np.arange(0.10, 0.51, 0.01)    # Search space of alpha values"
   ]
  },
  {
   "cell_type": "code",
   "execution_count": null,
   "metadata": {},
   "outputs": [],
   "source": [
    "ia = np.arange(p.shape[0])\n",
    "zl = 10.0 ** (0.1 * z)\n",
    "zl[np.isnan(z)] = 0.0"
   ]
  },
  {
   "cell_type": "markdown",
   "metadata": {},
   "source": [
    "## Calibration / Data Extraction"
   ]
  },
  {
   "cell_type": "code",
   "execution_count": null,
   "metadata": {},
   "outputs": [],
   "source": [
    "rayCount = z.shape[0]\n",
    "gateCount = z.shape[1]\n",
    "gateSpacing = 1.0e-3 * sweep['gateSizeMeters']\n",
    "downSamplingRatio = int(sweep['gateSizeMeters'] / 30.0)\n",
    "\n",
    "# Undo range correction and the ZCal in DSP to estimate the SNR\n",
    "rr = 1.0e-3 * (np.arange(sweep['gateCount']) + 0.5) * sweep['gateSizeMeters']\n",
    "snr = z - 20.0 * np.log10(rr) + 23\n",
    "\n",
    "# Transition gate at 10.5 km at the given spacing\n",
    "g = int((69.0e-6 * 3.0e8 * 0.5) / 30.0) + 5\n",
    "g = int((g + downSamplingRatio - 1) / downSamplingRatio)\n",
    "\n",
    "print(g)\n",
    "\n",
    "z_off = 10.0 * np.log10(1.5 / 67)\n",
    "snr[:, :g] = snr[:, :g] + z_off\n",
    "\n",
    "# PhiDP calibration so that the transition is smooth and PhiDP starts ~ 0 deg\n",
    "p[:, :g] = p[:, :g] + 40;\n",
    "p[:, g:] = p[:, g:] + 44;"
   ]
  },
  {
   "cell_type": "code",
   "execution_count": null,
   "metadata": {},
   "outputs": [],
   "source": [
    "# hl = plt.plot(snr.T[g-20:g+20, :])\n",
    "plt.figure()\n",
    "\n",
    "plt.subplot(121)\n",
    "_ = plt.plot(snr.T)\n",
    "plt.title('Estimated SNR')\n",
    "\n",
    "plt.subplot(122)\n",
    "plt.imshow(snr)\n",
    "plt.clim(-10, 60)\n",
    "plt.colorbar(orientation='horizontal')\n",
    "_ = plt.title('Estimated SNR')"
   ]
  },
  {
   "cell_type": "markdown",
   "metadata": {},
   "source": [
    "### Fast Code\n",
    "\n",
    "```python\n",
    "s = time.time()\n",
    "for _ in range(10):\n",
    "    \n",
    "    mask = np.logical_and(snr>0, r>0.85)\n",
    "\n",
    "e = time.time()\n",
    "print(e - s)\n",
    "```"
   ]
  },
  {
   "cell_type": "markdown",
   "metadata": {},
   "source": [
    "### Naive Code\n",
    "\n",
    "```python\n",
    "s = time.time()\n",
    "for _ in range(10):\n",
    "    \n",
    "    mask = np.zeros(snr.shape, dtype=bool)\n",
    "    for j in range(snr.shape[0]):\n",
    "        for i in range(snr.shape[1]):\n",
    "            if (snr[j, i] > 0 and r[j, i] > 0.85):\n",
    "                mask[j, i] = True\n",
    "\n",
    "e = time.time()\n",
    "print(e - s)\n",
    "```"
   ]
  },
  {
   "cell_type": "code",
   "execution_count": null,
   "metadata": {},
   "outputs": [],
   "source": [
    "# Quality mask\n",
    "mq = np.logical_and(np.nan_to_num(snr) > st, np.nan_to_num(r) > rt)"
   ]
  },
  {
   "cell_type": "code",
   "execution_count": null,
   "metadata": {},
   "outputs": [],
   "source": [
    "plt.figure()\n",
    "\n",
    "plt.subplot(121)\n",
    "plt.imshow(p, cmap=matplotlib.cm.hsv)\n",
    "plt.clim(-45, 45)\n",
    "plt.title('PhiDP (Degrees)')\n",
    "plt.colorbar(orientation='horizontal')\n",
    "\n",
    "plt.subplot(122)\n",
    "plt.imshow(mq, cmap=matplotlib.cm.gray)\n",
    "plt.clim(0, 1)\n",
    "plt.title('Mask: SNR > {} dB AND RhoHV > {:.2f}'.format(st, rt))\n",
    "plt.colorbar(orientation='horizontal')"
   ]
  },
  {
   "cell_type": "code",
   "execution_count": null,
   "metadata": {},
   "outputs": [],
   "source": [
    "# w = 10\n",
    "# r0 = np.zeros(p.shape[0])\n",
    "# for i in range(p.shape[0]):\n",
    "#     for g in range(p.shape[1] - w):\n",
    "#         kern = pm[i, g:g+w]\n",
    "#         if np.std(kern) < 10.0 and np.mean(np.diff(kern)) > 0.1:\n",
    "#             r0[i] = i\n",
    "#             break"
   ]
  },
  {
   "cell_type": "code",
   "execution_count": null,
   "metadata": {},
   "outputs": [],
   "source": [
    "# pp = np.array([[1, 2, 3], [4, 5, 6], [7, 8, 9]])\n",
    "# ww = np.ones(2) / 2.0\n",
    "# sp.signal.lfilter(ww, 1.0, pp)"
   ]
  },
  {
   "cell_type": "code",
   "execution_count": null,
   "metadata": {},
   "outputs": [],
   "source": [
    "# A copy of PhiDP with NAN set to 0.0\n",
    "pz = np.nan_to_num(np.copy(p))\n",
    "\n",
    "# Smoothing\n",
    "ww = np.ones(w) / w;\n",
    "ps = sp.signal.lfilter(ww, 1.0, pz)\n",
    "\n",
    "# Compute local variance\n",
    "p_var = sp.signal.lfilter(ww, 1.0, pz ** 2) - ps ** 2\n",
    "p_var[~mq] = 100.0\n",
    "\n",
    "# Compute local slope\n",
    "p_slope = sp.signal.lfilter(ww, 1.0, np.diff(p))"
   ]
  },
  {
   "cell_type": "code",
   "execution_count": null,
   "metadata": {},
   "outputs": [],
   "source": [
    "plt.figure()\n",
    "\n",
    "plt.subplot(121)\n",
    "plt.imshow(p_var, cmap=matplotlib.cm.tab20c)\n",
    "plt.clim(0.0, 100.0)\n",
    "plt.title('Local Variance')\n",
    "plt.colorbar(orientation='horizontal')\n",
    "\n",
    "plt.subplot(122)\n",
    "plt.imshow(p_slope, cmap=matplotlib.cm.RdYlBu)\n",
    "plt.clim(-1.0, 1.0)\n",
    "plt.title('Local Slope')\n",
    "plt.colorbar(orientation='horizontal')"
   ]
  },
  {
   "cell_type": "code",
   "execution_count": null,
   "metadata": {},
   "outputs": [],
   "source": [
    "# Statistical mask\n",
    "ms = np.logical_and(mq, p_var < vt)\n",
    "ms[:, :-1] = np.logical_and(ms[:, :-1], np.abs(np.nan_to_num(p_slope, 0.0)) < 0.5)\n",
    "ms_count = np.sum(ms, axis=1)\n",
    "\n",
    "g = 20;\n",
    "\n",
    "# Data bounds\n",
    "r0 = np.argmax(ms[:, g:], axis=1) + g\n",
    "rm = p.shape[1] - np.argmax(ms[:, :g:-1], axis=1) - 1\n",
    "\n",
    "# X-band\n",
    "b = 1.02\n",
    "\n",
    "alpha_count = len(alpha)\n",
    "\n",
    "# Construct the index path to use PhiDP\n",
    "ah = np.zeros((*ps.shape, alpha_count))\n",
    "edge = np.zeros(ms.shape, dtype=bool)\n",
    "deltaPhi = np.zeros(ps.shape[0])\n",
    "for i, s, e, c in zip(ia, r0, rm, ms_count):\n",
    "    if c > 50:\n",
    "        # Only use the path index if the length > 50 cells\n",
    "        edge[i, s:e] = True;\n",
    "        deltaPhi[i] = ps[i, e] - ps[i, s]\n",
    "\n",
    "# Mask out the Z and smoothed PhiDP values outside (r0, rm)\n",
    "zl[~edge] = 0.0\n",
    "ps[~edge] = np.nan\n",
    "\n",
    "# Z ** b\n",
    "zb = zl ** b;\n",
    "\n",
    "# I(r; rm) is a function of r, integrate Z from r to rm\n",
    "ir = 0.46 * b * np.cumsum(zb[:, ::-1], axis=1)[:, ::-1] * gateSpacing\n",
    "ir0 = np.array([x[i] for x, i in zip(ir, r0)])"
   ]
  },
  {
   "cell_type": "code",
   "execution_count": null,
   "metadata": {},
   "outputs": [],
   "source": [
    "# The common term in size of (360, 1, alpha_count)\n",
    "tenPowerSomethingMinusOne = 10.0 ** (0.1 * b * np.outer(deltaPhi, alpha).reshape((ps.shape[0], 1, -1)))"
   ]
  },
  {
   "cell_type": "code",
   "execution_count": null,
   "metadata": {},
   "outputs": [],
   "source": [
    "# Repeat Z for all combinations of r and alpha\n",
    "zb_big = np.repeat(np.expand_dims(zb, 2), alpha_count, axis=2)\n",
    "ir_big = np.repeat(np.expand_dims(ir, 2), alpha_count, axis=2)\n",
    "ps_big = np.repeat(np.expand_dims(ps, 2), alpha_count, axis=2)\n",
    "\n",
    "# I(r0; rm) is the same for one ray, all gates, all alpha values\n",
    "ir0_big = np.repeat(ir0, ps.shape[1] * alpha_count).reshape((*ps.shape, alpha_count))\n",
    "\n",
    "# Eq (15) for all (r; rm) so that ir[x] = 0.46 b int_x^rm (z ** b) dr\n",
    "num = zb_big * tenPowerSomethingMinusOne\n",
    "den = (ir0_big + tenPowerSomethingMinusOne * ir_big)\n",
    "mv = den == 0.0\n",
    "num[mv] = 0.0\n",
    "den[mv] = 1.0\n",
    "ah_big = num / den\n",
    "\n",
    "# Construct PhiDP for all alpha values\n",
    "alpha_big = np.outer(np.ones(ps.shape), alpha).reshape((*ps.shape, alpha_count))\n",
    "pc_big = 2.0 * np.cumsum(ah_big, axis=1) / alpha_big * gateSpacing"
   ]
  },
  {
   "cell_type": "code",
   "execution_count": null,
   "metadata": {},
   "outputs": [],
   "source": [
    "# Pick the best alpha\n",
    "ps_big = np.nan_to_num(ps_big)\n",
    "pc_big = np.nan_to_num(pc_big)\n",
    "\n",
    "err = np.sum(np.abs(ps_big - pc_big), axis=(0, 1))\n",
    "\n",
    "alpha_idx = np.argmin(err)\n",
    "\n",
    "pc = pc_big[:, :, alpha_idx]\n",
    "pc[~edge] = np.nan\n",
    "\n",
    "print('Best alpha @ {} / {} -> {:.4f}'.format(alpha_idx, alpha_count, alpha[alpha_idx]))"
   ]
  },
  {
   "cell_type": "code",
   "execution_count": null,
   "metadata": {},
   "outputs": [],
   "source": [
    "ps_big.shape"
   ]
  },
  {
   "cell_type": "code",
   "execution_count": null,
   "metadata": {
    "scrolled": false
   },
   "outputs": [],
   "source": [
    "plt.figure(figsize=(9, 10))\n",
    "\n",
    "plt.subplot(221)\n",
    "plt.imshow(p, cmap=matplotlib.cm.hsv)\n",
    "plt.clim(-45, 45)\n",
    "plt.title('PhiDP (Degrees)')\n",
    "plt.colorbar(orientation='horizontal')\n",
    "\n",
    "plt.subplot(222)\n",
    "plt.imshow(mq, cmap=matplotlib.cm.gray)\n",
    "plt.clim(0, 1)\n",
    "plt.title('Mask: SNR > {:.1f} dB AND RhoHV > {:.2f}'.format(st, rt))\n",
    "plt.colorbar(orientation='horizontal')\n",
    "\n",
    "plt.subplot(223)\n",
    "plt.imshow(ps, cmap=matplotlib.cm.hsv)\n",
    "plt.clim(-45, 45)\n",
    "plt.title('Smoothed PhiDP')\n",
    "plt.colorbar(orientation='horizontal')\n",
    "\n",
    "plt.subplot(224)\n",
    "# plt.imshow(0.5 * (np.array(ms, dtype=np.int) + edge), cmap=matplotlib.cm.gray)\n",
    "plt.imshow(0.5 * (np.array(mq, dtype=np.int) + edge), cmap=matplotlib.cm.gray)\n",
    "plt.clim(0, 1)\n",
    "plt.title('Mask + Edge')\n",
    "plt.colorbar(orientation='horizontal')"
   ]
  },
  {
   "cell_type": "code",
   "execution_count": null,
   "metadata": {},
   "outputs": [],
   "source": [
    "plt.figure()\n",
    "\n",
    "plt.subplot(121)\n",
    "plt.imshow(pc, cmap=matplotlib.cm.hsv)\n",
    "plt.clim(-45, 45)\n",
    "plt.title('Constructed PhiDP (alpha = {:.4f})'.format(alpha[alpha_idx]))\n",
    "plt.colorbar(orientation='horizontal')\n",
    "\n",
    "plt.subplot(122)\n",
    "plt.imshow(edge, cmap=matplotlib.cm.gray)\n",
    "plt.clim(0, 1)\n",
    "plt.title('Good')\n",
    "plt.colorbar(orientation='horizontal')"
   ]
  },
  {
   "cell_type": "code",
   "execution_count": null,
   "metadata": {},
   "outputs": [],
   "source": [
    "pp = np.copy(p)\n",
    "mp = np.nan_to_num(pp) <= 0.0\n",
    "pp[mp] = 0.0\n",
    "\n",
    "alpha_opt = alpha[alpha_idx]\n",
    "\n",
    "az = alpha_opt * pp ** b\n",
    "\n",
    "zc = z + az"
   ]
  },
  {
   "cell_type": "code",
   "execution_count": null,
   "metadata": {},
   "outputs": [],
   "source": [
    "plt.figure()\n",
    "\n",
    "plt.subplot(121)\n",
    "plt.imshow(az)\n",
    "plt.clim(0, 5)\n",
    "plt.title('Attentuation (dB)')\n",
    "plt.colorbar(orientation='horizontal')\n",
    "\n",
    "plt.subplot(122)\n",
    "plt.imshow(zc)\n",
    "plt.clim(0, 80)\n",
    "plt.title('Z corrected')\n",
    "plt.colorbar(orientation='horizontal')"
   ]
  },
  {
   "cell_type": "code",
   "execution_count": null,
   "metadata": {},
   "outputs": [],
   "source": [
    "# beta = d / deltaPhi\n",
    "dm = d[range(rayCount), rm];\n",
    "mp = deltaPhi < 5.0\n",
    "deltaPhi[mp] = 5.0\n",
    "beta = dm / deltaPhi\n",
    "beta[mp] = np.nan\n",
    "plt.plot(beta, '.')\n",
    "# plt.plot(deltaPhi)"
   ]
  },
  {
   "cell_type": "code",
   "execution_count": null,
   "metadata": {},
   "outputs": [],
   "source": [
    "# beta[np.abs(beta) > 1] = np.nan\n",
    "\n",
    "beta_opt = np.nanmean(beta)\n",
    "print(beta_opt)\n",
    "\n",
    "ad = beta_opt / alpha_opt * az\n",
    "dc = d + ad"
   ]
  },
  {
   "cell_type": "code",
   "execution_count": null,
   "metadata": {},
   "outputs": [],
   "source": [
    "# Original range (km) and zimuth (rad) of the data\n",
    "rr, aa = np.meshgrid(1.0e-3 * sweep['range'], sweep['azimuth'] * (np.pi / 180.0))\n",
    "\n",
    "# Cartesian coordinate of the radar cells\n",
    "x = rr * np.sin(aa)\n",
    "y = rr * np.cos(aa)\n",
    "\n",
    "# Plot out to 90% of the total coverage\n",
    "maxrange = 0.9 * gateCount * gateSpacing"
   ]
  },
  {
   "cell_type": "code",
   "execution_count": null,
   "metadata": {},
   "outputs": [],
   "source": [
    "_ = chart.showPPI(x, y, zc, style='Z', maxrange=maxrange, title = 'Corrected Reflectivity (dBZ)')"
   ]
  },
  {
   "cell_type": "code",
   "execution_count": null,
   "metadata": {},
   "outputs": [],
   "source": [
    "_ = chart.showPPI(x, y, z, style='Z', maxrange=maxrange)"
   ]
  },
  {
   "cell_type": "code",
   "execution_count": null,
   "metadata": {},
   "outputs": [],
   "source": [
    "_ = chart.showPPI(x, y, d, style='D', maxrange=maxrange)"
   ]
  },
  {
   "cell_type": "code",
   "execution_count": null,
   "metadata": {},
   "outputs": [],
   "source": [
    "_ = chart.showPPI(x, y, dc, style='D', maxrange=maxrange)"
   ]
  },
  {
   "cell_type": "code",
   "execution_count": null,
   "metadata": {},
   "outputs": [],
   "source": []
  }
 ],
 "metadata": {
  "kernelspec": {
   "display_name": "Python 3",
   "language": "python",
   "name": "python3"
  },
  "language_info": {
   "codemirror_mode": {
    "name": "ipython",
    "version": 3
   },
   "file_extension": ".py",
   "mimetype": "text/x-python",
   "name": "python",
   "nbconvert_exporter": "python",
   "pygments_lexer": "ipython3",
   "version": "3.6.5"
  }
 },
 "nbformat": 4,
 "nbformat_minor": 2
}
