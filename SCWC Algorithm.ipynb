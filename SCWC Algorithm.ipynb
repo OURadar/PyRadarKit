{
 "cells": [
  {
   "cell_type": "code",
   "execution_count": null,
   "metadata": {},
   "outputs": [],
   "source": [
    "%matplotlib inline"
   ]
  },
  {
   "cell_type": "code",
   "execution_count": null,
   "metadata": {},
   "outputs": [],
   "source": [
    "import numpy as np\n",
    "import radarkit\n",
    "import matplotlib.pyplot as plt\n",
    "import time"
   ]
  },
  {
   "cell_type": "code",
   "execution_count": null,
   "metadata": {},
   "outputs": [],
   "source": [
    "sweep = radarkit.read('/Users/boonleng/Downloads/PX-20170220-050706-E2.4-Z.nc')"
   ]
  },
  {
   "cell_type": "code",
   "execution_count": null,
   "metadata": {},
   "outputs": [],
   "source": [
    "z = sweep['moments'][0]['data']\n",
    "r = sweep['moments'][5]['data']"
   ]
  },
  {
   "cell_type": "code",
   "execution_count": null,
   "metadata": {},
   "outputs": [],
   "source": [
    "z.shape"
   ]
  },
  {
   "cell_type": "code",
   "execution_count": null,
   "metadata": {},
   "outputs": [],
   "source": [
    "# Undo range correction and the ZCal in DSP\n",
    "rr = 1.0e-3 * (np.arange(sweep['gateCount']) + 0.5) * sweep['gateSizeMeters']\n",
    "snr = z - 20.0 * np.log10(rr) + 23\n",
    "\n",
    "# Transition gate at 10.5 km at the given spacing\n",
    "g = int((69.0e-6 * 3.0e8 * 0.5) / sweep['gateSizeMeters'])\n",
    "print(g)\n",
    "z_off = 10.0 * np.log10(1.5 / 67)\n",
    "snr[:, :g] = snr[:, :g] + z_off"
   ]
  },
  {
   "cell_type": "code",
   "execution_count": null,
   "metadata": {},
   "outputs": [],
   "source": [
    "hl = plt.plot(snr.T)"
   ]
  },
  {
   "cell_type": "code",
   "execution_count": null,
   "metadata": {},
   "outputs": [],
   "source": [
    "plt.imshow(snr)\n",
    "plt.clim(-10, 60)\n",
    "plt.colorbar()"
   ]
  },
  {
   "cell_type": "code",
   "execution_count": null,
   "metadata": {},
   "outputs": [],
   "source": [
    "# Map NAN to some finite numbers for SNR and PhiDP\n",
    "snr = np.nan_to_num(snr, -100.0)\n",
    "r = np.nan_to_num(r, 0.0)"
   ]
  },
  {
   "cell_type": "markdown",
   "metadata": {},
   "source": [
    "### Fast Code\n",
    "\n",
    "```python\n",
    "s = time.time()\n",
    "for _ in range(10):\n",
    "    \n",
    "    mask = np.logical_and(snr>0, r>0.85)\n",
    "\n",
    "e = time.time()\n",
    "print(e - s)\n",
    "```"
   ]
  },
  {
   "cell_type": "markdown",
   "metadata": {},
   "source": [
    "### Naive Code\n",
    "\n",
    "```python\n",
    "s = time.time()\n",
    "for _ in range(10):\n",
    "    \n",
    "    mask = np.zeros(snr.shape, dtype=bool)\n",
    "    for j in range(360):\n",
    "        for i in range(snr.shape[1]):\n",
    "            if (snr[j, i] > 0 and r[j, i] > 0.85):\n",
    "                mask[j, i] = True\n",
    "\n",
    "e = time.time()\n",
    "print(e - s)\n",
    "```"
   ]
  },
  {
   "cell_type": "code",
   "execution_count": null,
   "metadata": {},
   "outputs": [],
   "source": [
    "mask = np.logical_and(snr>0, r>0.85)"
   ]
  },
  {
   "cell_type": "code",
   "execution_count": null,
   "metadata": {},
   "outputs": [],
   "source": [
    "plt.imshow(mask)"
   ]
  },
  {
   "cell_type": "code",
   "execution_count": null,
   "metadata": {},
   "outputs": [],
   "source": [
    "import random\n",
    "x = np.arange(10)\n",
    "x = [random.random() for ii in x]\n",
    "x"
   ]
  },
  {
   "cell_type": "code",
   "execution_count": null,
   "metadata": {},
   "outputs": [],
   "source": [
    "np.mean(np.diff(x))"
   ]
  },
  {
   "cell_type": "code",
   "execution_count": null,
   "metadata": {},
   "outputs": [],
   "source": []
  }
 ],
 "metadata": {
  "kernelspec": {
   "display_name": "Python 3",
   "language": "python",
   "name": "python3"
  },
  "language_info": {
   "codemirror_mode": {
    "name": "ipython",
    "version": 3
   },
   "file_extension": ".py",
   "mimetype": "text/x-python",
   "name": "python",
   "nbconvert_exporter": "python",
   "pygments_lexer": "ipython3",
   "version": "3.6.5"
  }
 },
 "nbformat": 4,
 "nbformat_minor": 2
}
