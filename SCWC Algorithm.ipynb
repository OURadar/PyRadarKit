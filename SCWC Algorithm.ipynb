{
 "cells": [
  {
   "cell_type": "code",
   "execution_count": null,
   "metadata": {},
   "outputs": [],
   "source": [
    "%matplotlib inline"
   ]
  },
  {
   "cell_type": "code",
   "execution_count": null,
   "metadata": {},
   "outputs": [],
   "source": [
    "import numpy as np\n",
    "import scipy as sp\n",
    "import scipy.signal\n",
    "import radarkit\n",
    "import matplotlib\n",
    "import matplotlib.pyplot as plt\n",
    "import time"
   ]
  },
  {
   "cell_type": "code",
   "execution_count": null,
   "metadata": {},
   "outputs": [],
   "source": [
    "matplotlib.rcParams['font.family'] = 'serif'\n",
    "matplotlib.rcParams['font.serif'] = ['Arial', 'Helvetica']\n",
    "matplotlib.rcParams['font.sans-serif'] = ['System Font', 'Verdana', 'Arial']\n",
    "matplotlib.rcParams['figure.figsize'] = (8.89, 5)   # Change the size of plots\n",
    "matplotlib.rcParams['figure.dpi'] = 144"
   ]
  },
  {
   "cell_type": "code",
   "execution_count": null,
   "metadata": {},
   "outputs": [],
   "source": [
    "sweep = radarkit.read('/Users/boonleng/Downloads/PX-20170220-050706-E2.4-Z.nc')"
   ]
  },
  {
   "cell_type": "code",
   "execution_count": null,
   "metadata": {},
   "outputs": [],
   "source": [
    "z = sweep['moments'][0]['data']\n",
    "p = sweep['moments'][4]['data']\n",
    "r = sweep['moments'][5]['data']"
   ]
  },
  {
   "cell_type": "code",
   "execution_count": null,
   "metadata": {},
   "outputs": [],
   "source": [
    "z.shape"
   ]
  },
  {
   "cell_type": "code",
   "execution_count": null,
   "metadata": {},
   "outputs": [],
   "source": [
    "# Undo range correction and the ZCal in DSP\n",
    "rr = 1.0e-3 * (np.arange(sweep['gateCount']) + 0.5) * sweep['gateSizeMeters']\n",
    "snr = z - 20.0 * np.log10(rr) + 23\n",
    "\n",
    "downSamplingRatio = int(sweep['gateSizeMeters'] / 30.0)\n",
    "\n",
    "# Transition gate at 10.5 km at the given spacing\n",
    "g = int((69.0e-6 * 3.0e8 * 0.5) / 30.0) + 5\n",
    "k = np.zeros(g + downSamplingRatio, dtype=bool)\n",
    "k[g+1:] = True\n",
    "g = np.argmax(k[::downSamplingRatio])\n",
    "\n",
    "print(g)\n",
    "\n",
    "z_off = 10.0 * np.log10(1.5 / 67)\n",
    "snr[:, :g] = snr[:, :g] + z_off"
   ]
  },
  {
   "cell_type": "code",
   "execution_count": null,
   "metadata": {},
   "outputs": [],
   "source": [
    "# hl = plt.plot(snr.T[g-20:g+20, :])\n",
    "hl = plt.plot(snr.T)"
   ]
  },
  {
   "cell_type": "code",
   "execution_count": null,
   "metadata": {},
   "outputs": [],
   "source": [
    "plt.imshow(snr)\n",
    "plt.clim(-10, 60)\n",
    "plt.colorbar()"
   ]
  },
  {
   "cell_type": "code",
   "execution_count": null,
   "metadata": {},
   "outputs": [],
   "source": [
    "# Map NAN to some finite numbers for SNR and PhiDP\n",
    "snr = np.nan_to_num(snr, -100.0)\n",
    "r = np.nan_to_num(r, 0.0)"
   ]
  },
  {
   "cell_type": "markdown",
   "metadata": {},
   "source": [
    "### Fast Code\n",
    "\n",
    "```python\n",
    "s = time.time()\n",
    "for _ in range(10):\n",
    "    \n",
    "    mask = np.logical_and(snr>0, r>0.85)\n",
    "\n",
    "e = time.time()\n",
    "print(e - s)\n",
    "```"
   ]
  },
  {
   "cell_type": "markdown",
   "metadata": {},
   "source": [
    "### Naive Code\n",
    "\n",
    "```python\n",
    "s = time.time()\n",
    "for _ in range(10):\n",
    "    \n",
    "    mask = np.zeros(snr.shape, dtype=bool)\n",
    "    for j in range(snr.shape[0]):\n",
    "        for i in range(snr.shape[1]):\n",
    "            if (snr[j, i] > 0 and r[j, i] > 0.85):\n",
    "                mask[j, i] = True\n",
    "\n",
    "e = time.time()\n",
    "print(e - s)\n",
    "```"
   ]
  },
  {
   "cell_type": "code",
   "execution_count": null,
   "metadata": {},
   "outputs": [],
   "source": [
    "mask = np.logical_and(snr>0, r>0.85)\n",
    "# p[:, :g] = p[:, :g] + 40;\n",
    "# p[:, g:] = p[:, g:] + 44;"
   ]
  },
  {
   "cell_type": "code",
   "execution_count": null,
   "metadata": {},
   "outputs": [],
   "source": [
    "plt.figure()\n",
    "\n",
    "plt.subplot(121)\n",
    "plt.imshow(p, cmap=matplotlib.cm.hsv)\n",
    "plt.clim(-45, 45)\n",
    "plt.title('PhiDP (Degrees)')\n",
    "plt.colorbar(orientation='horizontal')\n",
    "\n",
    "plt.subplot(122)\n",
    "plt.imshow(mask, cmap=matplotlib.cm.gray)\n",
    "plt.clim(0, 1)\n",
    "plt.title('Mask: SNR > 0 AND RhoHV > 0.85')\n",
    "plt.colorbar(orientation='horizontal')"
   ]
  },
  {
   "cell_type": "code",
   "execution_count": null,
   "metadata": {},
   "outputs": [],
   "source": [
    "p"
   ]
  },
  {
   "cell_type": "markdown",
   "metadata": {},
   "source": [
    "w = 10\n",
    "r0 = np.zeros(p.shape[0])\n",
    "for i in range(p.shape[0]):\n",
    "    for g in range(p.shape[1] - w):\n",
    "        kern = pm[i, g:g+w]\n",
    "        if np.std(kern) < 10.0 and np.mean(np.diff(kern)) > 0.1:\n",
    "            r0[i] = i\n",
    "            break"
   ]
  },
  {
   "cell_type": "markdown",
   "metadata": {},
   "source": [
    "pp = np.array([[1, 2, 3], [4, 5, 6], [7, 8, 9]])\n",
    "ww = np.ones(2) / 2.0\n",
    "sp.signal.lfilter(ww, 1.0, pp)"
   ]
  },
  {
   "cell_type": "code",
   "execution_count": null,
   "metadata": {},
   "outputs": [],
   "source": [
    "# Compute local slope\n",
    "p_slope = sp.signal.lfilter(ww, 1.0, np.diff(p))\n",
    "p_slope"
   ]
  },
  {
   "cell_type": "code",
   "execution_count": null,
   "metadata": {},
   "outputs": [],
   "source": [
    "# Compute local variance\n",
    "w = 10\n",
    "ww = np.ones(w) / w;\n",
    "ps = sp.signal.lfilter(ww, 1.0, pm)\n",
    "p_var = sp.signal.lfilter(ww, 1.0, pm ** 2) - ps ** 2\n",
    "p_var[~mask] = 100.0\n",
    "\n",
    "# Compute local slope\n",
    "p_slope = sp.signal.lfilter(ww, 1.0, np.diff(p))"
   ]
  },
  {
   "cell_type": "code",
   "execution_count": null,
   "metadata": {},
   "outputs": [],
   "source": [
    "plt.figure()\n",
    "\n",
    "yy = np.arange(p.shape[0])\n",
    "\n",
    "plt.subplot(121)\n",
    "plt.imshow(p_var, cmap=matplotlib.cm.tab20c)\n",
    "plt.clim(0.0, 100.0)\n",
    "plt.title('Local Variance')\n",
    "plt.colorbar(orientation='horizontal')\n",
    "\n",
    "plt.subplot(122)\n",
    "plt.imshow(p_slope, cmap=matplotlib.cm.RdYlBu)\n",
    "plt.clim(-1.0, 1.0)\n",
    "plt.title('Local Slope')\n",
    "plt.colorbar(orientation='horizontal')"
   ]
  },
  {
   "cell_type": "code",
   "execution_count": null,
   "metadata": {},
   "outputs": [],
   "source": [
    "good = np.logical_and(p_var < 20.0, mask)\n",
    "good[:, 1:] = np.logical_and(np.abs(np.nan_to_num(p_slope, 0.0)) < 0.5, good[:, 1:])\n",
    "# good[:, 1:] = np.logical_and(np.nan_to_num(p_slope, 0.0) > 0.01, good[:, 1:])\n",
    "\n",
    "good_count = np.sum(good, axis=1)\n",
    "\n",
    "r0 = np.argmax(good[:, g+1:], axis=1) + g\n",
    "rm = p.shape[1] - np.argmax(good[:, :g:-1], axis=1) - 1\n",
    "\n",
    "paths = []\n",
    "edge = np.zeros(good.shape, dtype=bool)\n",
    "for i, s, e, c in zip(np.arange(p.shape[0]), r0, rm, good_count):\n",
    "    if c > 50:\n",
    "        paths.append((i, s, e))\n",
    "        edge[i, s:e] = True;"
   ]
  },
  {
   "cell_type": "code",
   "execution_count": null,
   "metadata": {},
   "outputs": [],
   "source": [
    "plt.figure()\n",
    "\n",
    "plt.subplot(121)\n",
    "plt.imshow(good, cmap=matplotlib.cm.gray)\n",
    "plt.clim(0, 2)\n",
    "plt.title('Good')\n",
    "plt.colorbar(orientation='horizontal')\n",
    "\n",
    "plt.subplot(122)\n",
    "plt.imshow(edge, cmap=matplotlib.cm.gray)\n",
    "# plt.plot(rm, yy, '.', markersize=1)\n",
    "# plt.plot(r0, yy, '.', markersize=1)\n",
    "plt.clim(0, 1)\n",
    "plt.title('Good')\n",
    "plt.colorbar(orientation='horizontal')"
   ]
  },
  {
   "cell_type": "code",
   "execution_count": null,
   "metadata": {},
   "outputs": [],
   "source": [
    "rm.shape"
   ]
  },
  {
   "cell_type": "code",
   "execution_count": null,
   "metadata": {},
   "outputs": [],
   "source": [
    "x = np.array([1, 2, 3, 4, 5])"
   ]
  },
  {
   "cell_type": "code",
   "execution_count": null,
   "metadata": {},
   "outputs": [],
   "source": [
    "x[:0:-1]"
   ]
  },
  {
   "cell_type": "code",
   "execution_count": null,
   "metadata": {},
   "outputs": [],
   "source": []
  }
 ],
 "metadata": {
  "kernelspec": {
   "display_name": "Python 3",
   "language": "python",
   "name": "python3"
  },
  "language_info": {
   "codemirror_mode": {
    "name": "ipython",
    "version": 3
   },
   "file_extension": ".py",
   "mimetype": "text/x-python",
   "name": "python",
   "nbconvert_exporter": "python",
   "pygments_lexer": "ipython3",
   "version": "3.6.5"
  }
 },
 "nbformat": 4,
 "nbformat_minor": 2
}
