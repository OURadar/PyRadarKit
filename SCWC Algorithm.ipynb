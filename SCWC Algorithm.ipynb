{
 "cells": [
  {
   "cell_type": "code",
   "execution_count": null,
   "metadata": {},
   "outputs": [],
   "source": [
    "%matplotlib inline"
   ]
  },
  {
   "cell_type": "code",
   "execution_count": null,
   "metadata": {},
   "outputs": [],
   "source": [
    "import numpy as np\n",
    "import scipy as sp\n",
    "import scipy.signal\n",
    "import radarkit\n",
    "import matplotlib\n",
    "import matplotlib.pyplot as plt\n",
    "import time"
   ]
  },
  {
   "cell_type": "code",
   "execution_count": null,
   "metadata": {},
   "outputs": [],
   "source": [
    "matplotlib.rcParams['font.family'] = 'serif'\n",
    "matplotlib.rcParams['font.serif'] = ['Arial', 'Helvetica']\n",
    "matplotlib.rcParams['font.sans-serif'] = ['System Font', 'Verdana', 'Arial']\n",
    "matplotlib.rcParams['figure.figsize'] = (8.89, 5)   # Change the size of plots\n",
    "matplotlib.rcParams['figure.dpi'] = 144"
   ]
  },
  {
   "cell_type": "code",
   "execution_count": null,
   "metadata": {},
   "outputs": [],
   "source": [
    "sweep = radarkit.read('/Users/boonleng/Downloads/PX-20170220-050706-E2.4-Z.nc')"
   ]
  },
  {
   "cell_type": "code",
   "execution_count": null,
   "metadata": {},
   "outputs": [],
   "source": [
    "z = sweep['moments'][0]['data']\n",
    "p = sweep['moments'][4]['data']\n",
    "r = sweep['moments'][5]['data']"
   ]
  },
  {
   "cell_type": "code",
   "execution_count": null,
   "metadata": {},
   "outputs": [],
   "source": [
    "ia = np.arange(p.shape[0])\n",
    "zc = np.copy(z)\n",
    "zc[np.isnan(zc)] = -np.inf\n",
    "z_lin = 10.0 ** (0.1 * zc)"
   ]
  },
  {
   "cell_type": "code",
   "execution_count": null,
   "metadata": {},
   "outputs": [],
   "source": [
    "downSamplingRatio = int(sweep['gateSizeMeters'] / 30.0)\n",
    "\n",
    "# Undo range correction and the ZCal in DSP to estimate the SNR\n",
    "rr = 1.0e-3 * (np.arange(sweep['gateCount']) + 0.5) * sweep['gateSizeMeters']\n",
    "snr = z - 20.0 * np.log10(rr) + 23\n",
    "\n",
    "# Transition gate at 10.5 km at the given spacing\n",
    "g = int((69.0e-6 * 3.0e8 * 0.5) / 30.0) + 5\n",
    "g = int((g + downSamplingRatio - 1) / downSamplingRatio)\n",
    "\n",
    "print(g)\n",
    "\n",
    "z_off = 10.0 * np.log10(1.5 / 67)\n",
    "snr[:, :g] = snr[:, :g] + z_off\n",
    "\n",
    "# PhiDP calibration so that the transition is smooth and PhiDP starts ~ 0 deg\n",
    "p[:, :g] = p[:, :g] + 40;\n",
    "p[:, g:] = p[:, g:] + 44;\n",
    "\n",
    "# A copy of PhiDP with NAN set to 0.0\n",
    "pm = np.nan_to_num(np.copy(p))"
   ]
  },
  {
   "cell_type": "code",
   "execution_count": null,
   "metadata": {},
   "outputs": [],
   "source": [
    "# hl = plt.plot(snr.T[g-20:g+20, :])\n",
    "plt.figure()\n",
    "\n",
    "plt.subplot(121)\n",
    "_ = plt.plot(snr.T)\n",
    "plt.title('Estimated SNR')\n",
    "\n",
    "plt.subplot(122)\n",
    "plt.imshow(snr)\n",
    "plt.clim(-10, 60)\n",
    "plt.colorbar(orientation='horizontal')\n",
    "_ = plt.title('Estimated SNR')"
   ]
  },
  {
   "cell_type": "markdown",
   "metadata": {},
   "source": [
    "### Fast Code\n",
    "\n",
    "```python\n",
    "s = time.time()\n",
    "for _ in range(10):\n",
    "    \n",
    "    mask = np.logical_and(snr>0, r>0.85)\n",
    "\n",
    "e = time.time()\n",
    "print(e - s)\n",
    "```"
   ]
  },
  {
   "cell_type": "markdown",
   "metadata": {},
   "source": [
    "### Naive Code\n",
    "\n",
    "```python\n",
    "s = time.time()\n",
    "for _ in range(10):\n",
    "    \n",
    "    mask = np.zeros(snr.shape, dtype=bool)\n",
    "    for j in range(snr.shape[0]):\n",
    "        for i in range(snr.shape[1]):\n",
    "            if (snr[j, i] > 0 and r[j, i] > 0.85):\n",
    "                mask[j, i] = True\n",
    "\n",
    "e = time.time()\n",
    "print(e - s)\n",
    "```"
   ]
  },
  {
   "cell_type": "code",
   "execution_count": null,
   "metadata": {},
   "outputs": [],
   "source": [
    "# Map NAN to some finite numbers for SNR and PhiDP\n",
    "# snr[np.isnan(snr)] = -100.0\n",
    "# r[np.isnan(r)] = 0.0\n",
    "\n",
    "mask = np.logical_and(np.nan_to_num(np.copy(snr))>0, np.nan_to_num(r)>0.85)"
   ]
  },
  {
   "cell_type": "code",
   "execution_count": null,
   "metadata": {},
   "outputs": [],
   "source": [
    "plt.figure()\n",
    "\n",
    "plt.subplot(121)\n",
    "plt.imshow(p, cmap=matplotlib.cm.hsv)\n",
    "plt.clim(-45, 45)\n",
    "plt.title('PhiDP (Degrees)')\n",
    "plt.colorbar(orientation='horizontal')\n",
    "\n",
    "plt.subplot(122)\n",
    "plt.imshow(mask, cmap=matplotlib.cm.gray)\n",
    "plt.clim(0, 1)\n",
    "plt.title('Mask: SNR > 0 AND RhoHV > 0.85')\n",
    "plt.colorbar(orientation='horizontal')"
   ]
  },
  {
   "cell_type": "code",
   "execution_count": null,
   "metadata": {},
   "outputs": [],
   "source": [
    "# w = 10\n",
    "# r0 = np.zeros(p.shape[0])\n",
    "# for i in range(p.shape[0]):\n",
    "#     for g in range(p.shape[1] - w):\n",
    "#         kern = pm[i, g:g+w]\n",
    "#         if np.std(kern) < 10.0 and np.mean(np.diff(kern)) > 0.1:\n",
    "#             r0[i] = i\n",
    "#             break"
   ]
  },
  {
   "cell_type": "code",
   "execution_count": null,
   "metadata": {},
   "outputs": [],
   "source": [
    "# pp = np.array([[1, 2, 3], [4, 5, 6], [7, 8, 9]])\n",
    "# ww = np.ones(2) / 2.0\n",
    "# sp.signal.lfilter(ww, 1.0, pp)"
   ]
  },
  {
   "cell_type": "code",
   "execution_count": null,
   "metadata": {},
   "outputs": [],
   "source": [
    "# Smoothing\n",
    "w = 20\n",
    "ww = np.ones(w) / w;\n",
    "ps = sp.signal.lfilter(ww, 1.0, pm)\n",
    "\n",
    "# Compute local variance\n",
    "p_var = sp.signal.lfilter(ww, 1.0, pm ** 2) - ps ** 2\n",
    "p_var[~mask] = 100.0\n",
    "\n",
    "# Compute local slope\n",
    "p_slope = sp.signal.lfilter(ww, 1.0, np.diff(p))"
   ]
  },
  {
   "cell_type": "code",
   "execution_count": null,
   "metadata": {},
   "outputs": [],
   "source": [
    "plt.figure()\n",
    "\n",
    "plt.subplot(121)\n",
    "plt.imshow(p_var, cmap=matplotlib.cm.tab20c)\n",
    "plt.clim(0.0, 100.0)\n",
    "plt.title('Local Variance')\n",
    "plt.colorbar(orientation='horizontal')\n",
    "\n",
    "plt.subplot(122)\n",
    "plt.imshow(p_slope, cmap=matplotlib.cm.RdYlBu)\n",
    "plt.clim(-1.0, 1.0)\n",
    "plt.title('Local Slope')\n",
    "plt.colorbar(orientation='horizontal')"
   ]
  },
  {
   "cell_type": "code",
   "execution_count": null,
   "metadata": {},
   "outputs": [],
   "source": [
    "good = np.logical_and(p_var < 20.0, mask)\n",
    "good[:, 1:] = np.logical_and(np.abs(np.nan_to_num(p_slope, 0.0)) < 0.5, good[:, 1:])\n",
    "# good[:, 1:] = np.logical_and(np.nan_to_num(p_slope, 0.0) > 0.01, good[:, 1:])\n",
    "\n",
    "good_count = np.sum(good, axis=1)\n",
    "\n",
    "g = 20;\n",
    "\n",
    "# Data bounds\n",
    "r0 = np.argmax(good[:, g+1:], axis=1) + g\n",
    "rm = p.shape[1] - np.argmax(good[:, :g:-1], axis=1) - 1\n",
    "\n",
    "# X-band\n",
    "b = 1.02\n",
    "alpha = np.arange(0.01, 0.051, 0.005)\n",
    "alpha_count = len(alpha)\n",
    "\n",
    "fourSixBDeltaR = 0.46 * b * 1.0e-3 * sweep['gateSizeMeters']\n",
    "\n",
    "# Eq (15) for all (r; rm) so that ir[x] = 0.46 b int_x^rm (z ** b) dr\n",
    "ir = fourSixBDeltaR * np.cumsum(z_lin[:, ::-1] ** b, axis=1)[:, ::-1]\n",
    "ir0 = np.copy(ir)\n",
    "# ir0 = [x[i] for x, i in zip(ir, r0)]\n",
    "# ir0 = np.repeat(ir0, ir.shape[1]).reshape(ps.shape)\n",
    "\n",
    "paths = []\n",
    "ah = np.zeros((*ps.shape, len(alpha)))\n",
    "edge = np.zeros(good.shape, dtype=bool)\n",
    "deltaPhi = np.zeros(ps.shape[0])\n",
    "for i, s, e, c in zip(ia, r0, rm, good_count):\n",
    "    if c > 50:\n",
    "        # Only use the path index if the length > 50 cells\n",
    "        edge[i, s:e] = True;\n",
    "        paths.append((i, s, e))\n",
    "        deltaPhi[i] = ps[i, e] - ps[i, s]\n",
    "        ir[i, :] = ir[i, s]\n",
    "        \n",
    "z_lin[~edge] = 0.0"
   ]
  },
  {
   "cell_type": "code",
   "execution_count": null,
   "metadata": {},
   "outputs": [],
   "source": [
    "# The common term in size of (360, 1, alpha_count)\n",
    "tenPowerSomethingMinusOne = 10.0 ** (0.1 * b * np.outer(deltaPhi, alpha).reshape((ps.shape[0], 1, -1)))"
   ]
  },
  {
   "cell_type": "code",
   "execution_count": null,
   "metadata": {},
   "outputs": [],
   "source": [
    "z_lin_big = np.repeat(z_lin, alpha_count).reshape((*ps.shape, alpha_count))\n",
    "ir_big = np.repeat(ir, alpha_count).reshape((*ps.shape, alpha_count))\n",
    "ir0_big = np.repeat(ir0, alpha_count).reshape((*ps.shape, alpha_count))\n",
    "\n",
    "num = z_lin_big ** b * tenPowerSomethingMinusOne\n",
    "den = (ir0_big + tenPowerSomethingMinusOne * ir_big)\n",
    "den[den == 0] = 1.0\n",
    "ah = num / den"
   ]
  },
  {
   "cell_type": "code",
   "execution_count": null,
   "metadata": {},
   "outputs": [],
   "source": [
    "alpha_big = np.outer(np.ones(ps.shape), alpha).reshape((*ps.shape, alpha_count))\n",
    "p_con = 2.0 * np.cumsum(ah, axis=1) / alpha_big * 1.0e-3 * sweep['gateSizeMeters']"
   ]
  },
  {
   "cell_type": "code",
   "execution_count": null,
   "metadata": {},
   "outputs": [],
   "source": [
    "ps = np.nan_to_num(ps)\n",
    "p_con = np.nan_to_num(p_con)\n",
    "err = np.sum(np.abs(np.repeat(ps, alpha_count).reshape((*ps.shape, alpha_count)) - p_con), axis=(0,1))\n",
    "\n",
    "alpha_idx = np.argmin(err)"
   ]
  },
  {
   "cell_type": "code",
   "execution_count": null,
   "metadata": {},
   "outputs": [],
   "source": [
    "ps[~edge] = np.nan"
   ]
  },
  {
   "cell_type": "code",
   "execution_count": null,
   "metadata": {},
   "outputs": [],
   "source": [
    "plt.figure()\n",
    "\n",
    "plt.subplot(121)\n",
    "plt.imshow(ps, cmap=matplotlib.cm.hsv)\n",
    "plt.clim(-45, 45)\n",
    "plt.title('Smoothed PhiDP')\n",
    "plt.colorbar(orientation='horizontal')\n",
    "\n",
    "plt.subplot(122)\n",
    "plt.imshow(edge, cmap=matplotlib.cm.gray)\n",
    "plt.clim(0, 1)\n",
    "plt.title('Good')\n",
    "plt.colorbar(orientation='horizontal')"
   ]
  },
  {
   "cell_type": "code",
   "execution_count": null,
   "metadata": {},
   "outputs": [],
   "source": [
    "plt.figure()\n",
    "\n",
    "d = p_con[:, :, alpha_idx]\n",
    "d[~edge] = np.nan\n",
    "\n",
    "plt.subplot(121)\n",
    "plt.imshow(d, cmap=matplotlib.cm.hsv)\n",
    "plt.clim(-45, 45)\n",
    "plt.title('Constructed PhiDP (alpha = {:.4f})'.format(alpha[alpha_idx]))\n",
    "plt.colorbar(orientation='horizontal')\n",
    "\n",
    "plt.subplot(122)\n",
    "plt.imshow(edge, cmap=matplotlib.cm.gray)\n",
    "plt.clim(0, 1)\n",
    "plt.title('Good')\n",
    "plt.colorbar(orientation='horizontal')"
   ]
  },
  {
   "cell_type": "code",
   "execution_count": null,
   "metadata": {},
   "outputs": [],
   "source": []
  }
 ],
 "metadata": {
  "kernelspec": {
   "display_name": "Python 3",
   "language": "python",
   "name": "python3"
  },
  "language_info": {
   "codemirror_mode": {
    "name": "ipython",
    "version": 3
   },
   "file_extension": ".py",
   "mimetype": "text/x-python",
   "name": "python",
   "nbconvert_exporter": "python",
   "pygments_lexer": "ipython3",
   "version": "3.6.5"
  }
 },
 "nbformat": 4,
 "nbformat_minor": 2
}
