{
 "cells": [
  {
   "cell_type": "code",
   "execution_count": null,
   "metadata": {},
   "outputs": [],
   "source": [
    "%matplotlib inline"
   ]
  },
  {
   "cell_type": "code",
   "execution_count": null,
   "metadata": {},
   "outputs": [],
   "source": [
    "import os\n",
    "import sys\n",
    "import numpy as np\n",
    "import matplotlib\n",
    "\n",
    "if not sys.version_info.major is 3:\n",
    "    print('PyRadarKit requires Python 3')\n",
    "    raise"
   ]
  },
  {
   "cell_type": "code",
   "execution_count": null,
   "metadata": {},
   "outputs": [],
   "source": [
    "import chart\n",
    "import radarkit"
   ]
  },
  {
   "cell_type": "code",
   "execution_count": null,
   "metadata": {},
   "outputs": [],
   "source": [
    "matplotlib.rcParams['font.family'] = 'serif'\n",
    "matplotlib.rcParams['font.serif'] = ['Arial']\n",
    "matplotlib.rcParams['font.sans-serif'] = ['System Font', 'Verdana', 'Arial']\n",
    "matplotlib.rc('text', usetex=False)"
   ]
  },
  {
   "cell_type": "code",
   "execution_count": null,
   "metadata": {},
   "outputs": [],
   "source": [
    "# Read a file\n",
    "# sweep = radarkit.read('data/PX-20130520-202639-E2.6-Z.nc')\n",
    "# sweep = radarkit.read('/Users/boonleng/Downloads/PX-20180308-043920-E4.5/PX-20180308-043920-E4.5-Z.nc')\n",
    "# sweep = radarkit.read('')\n",
    "# sweep = radarkit.read('/Users/boonleng/Downloads/PX1K-examples/PX1K-20180625-135605-E4.0-Y.nc')\n",
    "# sweep = radarkit.read('/Users/boonleng/Downloads/PX1K-examples/PX1K-20180625-135605-E4.0-Z.nc')\n",
    "sweep = radarkit.read('/Users/boonleng/Downloads/PX-20170220-050706-E2.4-Z.nc')"
   ]
  },
  {
   "cell_type": "code",
   "execution_count": null,
   "metadata": {},
   "outputs": [],
   "source": [
    "if sweep is None:\n",
    "    print('Unable to continue.\\n')\n",
    "    raise"
   ]
  },
  {
   "cell_type": "code",
   "execution_count": null,
   "metadata": {},
   "outputs": [],
   "source": [
    "# Number of gates that we want to show\n",
    "ng = 1000\n",
    "\n",
    "# Original range (km) and zimuth (rad) of the data\n",
    "r, a = np.meshgrid(1.0e-3 * sweep['range'][0:ng], sweep['azimuth'] * (np.pi / 180.0))\n",
    "\n",
    "# Cartesian coordinate of the radar cells\n",
    "x = r * np.sin(a)\n",
    "y = r * np.cos(a)"
   ]
  },
  {
   "cell_type": "code",
   "execution_count": null,
   "metadata": {},
   "outputs": [],
   "source": [
    "# import importlib\n",
    "# chart = importlib.reload(chart)"
   ]
  },
  {
   "cell_type": "code",
   "execution_count": null,
   "metadata": {
    "scrolled": false
   },
   "outputs": [],
   "source": [
    "# Plot\n",
    "for product in sweep['products']:\n",
    "    symbol = product['symbol']\n",
    "    if not 'R' is product['symbol']:\n",
    "        continue\n",
    "    name = product['name']\n",
    "    unit = product['unit']\n",
    "    data = product['data'][:, 0:ng]\n",
    "    #ppi = chart.showPPI(x, y, data, title='{} - {} ({})'.format(symbol, name, unit), symbol=symbol)\n",
    "    _ = chart.showPPI(x, y, data, symbol=symbol)"
   ]
  },
  {
   "cell_type": "code",
   "execution_count": null,
   "metadata": {},
   "outputs": [],
   "source": [
    "matplotlib.pyplot.imshow(zi)"
   ]
  },
  {
   "cell_type": "code",
   "execution_count": null,
   "metadata": {},
   "outputs": [],
   "source": []
  },
  {
   "cell_type": "code",
   "execution_count": null,
   "metadata": {},
   "outputs": [],
   "source": []
  }
 ],
 "metadata": {
  "kernelspec": {
   "display_name": "Python 3",
   "language": "python",
   "name": "python3"
  },
  "language_info": {
   "codemirror_mode": {
    "name": "ipython",
    "version": 3
   },
   "file_extension": ".py",
   "mimetype": "text/x-python",
   "name": "python",
   "nbconvert_exporter": "python",
   "pygments_lexer": "ipython3",
   "version": "3.6.5"
  }
 },
 "nbformat": 4,
 "nbformat_minor": 2
}
