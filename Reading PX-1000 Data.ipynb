{
 "cells": [
  {
   "cell_type": "code",
   "execution_count": null,
   "metadata": {
    "collapsed": true
   },
   "outputs": [],
   "source": [
    "%matplotlib inline"
   ]
  },
  {
   "cell_type": "code",
   "execution_count": null,
   "metadata": {
    "collapsed": true
   },
   "outputs": [],
   "source": [
    "import numpy as np\n",
    "import matplotlib\n",
    "import chart\n",
    "import radarkit"
   ]
  },
  {
   "cell_type": "code",
   "execution_count": null,
   "metadata": {
    "collapsed": true
   },
   "outputs": [],
   "source": [
    "matplotlib.rcParams['font.family'] = 'serif'\n",
    "matplotlib.rcParams['font.serif'] = ['Arial']\n",
    "matplotlib.rcParams['font.sans-serif'] = ['System Font', 'Verdana', 'Arial']\n",
    "matplotlib.rc('text', usetex=False)"
   ]
  },
  {
   "cell_type": "code",
   "execution_count": null,
   "metadata": {
    "collapsed": true
   },
   "outputs": [],
   "source": [
    "# Read a file\n",
    "# sweep = radarkit.read('data/PX-20130520-202639-E2.6-Z.nc')\n",
    "sweep = radarkit.read('/Users/boonleng/Desktop/PX-20180308-043920-E4.5/PX-20180308-043920-E4.5-Z.nc')"
   ]
  },
  {
   "cell_type": "code",
   "execution_count": null,
   "metadata": {},
   "outputs": [],
   "source": [
    "if sweep is None:\n",
    "    print('Unable to continue.\\n')\n",
    "    raise"
   ]
  },
  {
   "cell_type": "code",
   "execution_count": null,
   "metadata": {
    "collapsed": true
   },
   "outputs": [],
   "source": [
    "# Number of gates that we want to show\n",
    "ng = 1000\n",
    "\n",
    "# Original range (km) and zimuth (rad) of the data\n",
    "r, a = np.meshgrid(1.0e-3 * sweep['range'][0:ng], sweep['azimuth'] * (np.pi / 180.0))\n",
    "\n",
    "# Cartesian coordinate of the radar cells\n",
    "x = r * np.sin(a)\n",
    "y = r * np.cos(a)"
   ]
  },
  {
   "cell_type": "code",
   "execution_count": null,
   "metadata": {
    "scrolled": false
   },
   "outputs": [],
   "source": [
    "z = sweep['moments']['Z'][:, 0:ng]\n",
    "ppi = chart.showPPI(x, y, z, title='Reflectivity (dBZ)')"
   ]
  },
  {
   "cell_type": "code",
   "execution_count": null,
   "metadata": {},
   "outputs": [],
   "source": [
    "v = sweep['moments']['V'][:, 0:ng]\n",
    "if not v is None:\n",
    "    cmap = matplotlib.pyplot.get_cmap('bwr')\n",
    "    ppi = chart.showPPI(x, y, v, cmap=cmap, vmin=-8.0, vmax=8.0, title='Velocity (m/s)')"
   ]
  },
  {
   "cell_type": "code",
   "execution_count": null,
   "metadata": {
    "collapsed": true
   },
   "outputs": [],
   "source": []
  }
 ],
 "metadata": {
  "kernelspec": {
   "display_name": "Python 3",
   "language": "python",
   "name": "python3"
  },
  "language_info": {
   "codemirror_mode": {
    "name": "ipython",
    "version": 3
   },
   "file_extension": ".py",
   "mimetype": "text/x-python",
   "name": "python",
   "nbconvert_exporter": "python",
   "pygments_lexer": "ipython3",
   "version": "3.6.4"
  }
 },
 "nbformat": 4,
 "nbformat_minor": 2
}
