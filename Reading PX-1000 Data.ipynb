{
 "cells": [
  {
   "cell_type": "markdown",
   "metadata": {},
   "source": [
    "# Reading PX-1000 Data and Using Chart"
   ]
  },
  {
   "cell_type": "code",
   "execution_count": null,
   "metadata": {},
   "outputs": [],
   "source": [
    "%matplotlib inline"
   ]
  },
  {
   "cell_type": "code",
   "execution_count": null,
   "metadata": {},
   "outputs": [],
   "source": [
    "import os\n",
    "import sys\n",
    "import time\n",
    "import numpy as np\n",
    "import urllib.request\n",
    "import matplotlib\n",
    "import radarkit\n",
    "import chart\n",
    "\n",
    "if not sys.version_info.major is 3:\n",
    "    print('PyRadarKit requires Python 3')\n",
    "    raise"
   ]
  },
  {
   "cell_type": "code",
   "execution_count": null,
   "metadata": {},
   "outputs": [],
   "source": [
    "matplotlib.rcParams['font.family'] = 'serif'\n",
    "matplotlib.rcParams['font.serif'] = ['Arial']\n",
    "matplotlib.rcParams['font.sans-serif'] = ['System Font', 'Verdana', 'Arial']\n",
    "matplotlib.rc('text', usetex=False)\n",
    "matplotlib.rcParams['figure.dpi'] = 144"
   ]
  },
  {
   "cell_type": "code",
   "execution_count": null,
   "metadata": {},
   "outputs": [],
   "source": [
    "# Data filenames\n",
    "folder = os.path.expanduser('~/Downloads/')\n",
    "prefix = 'PX-20170220-050706-E2.4'\n",
    "files = ['{}-{}.nc'.format(prefix, x) for x in ['Z', 'V', 'W', 'D', 'P', 'R']]\n",
    "\n",
    "# Download data files if not exist\n",
    "for file in files:\n",
    "    url = 'http://arrc.ou.edu/~boonleng/files/{}'.format(file)\n",
    "    dst = '{}/{}'.format(folder, file)\n",
    "    if not os.path.isfile(dst):\n",
    "        print('Downloading {} ...'.format(file))\n",
    "        urllib.request.urlretrieve(url, dst)"
   ]
  },
  {
   "cell_type": "code",
   "execution_count": null,
   "metadata": {},
   "outputs": [],
   "source": [
    "# Read in data files\n",
    "sweep = radarkit.read('{}/{}-Z.nc'.format(folder, prefix))\n",
    "if sweep is None:\n",
    "    print('Unable to continue.\\n')\n",
    "    raise"
   ]
  },
  {
   "cell_type": "markdown",
   "metadata": {},
   "source": [
    "## Coordinates of the Data Cells"
   ]
  },
  {
   "cell_type": "code",
   "execution_count": null,
   "metadata": {},
   "outputs": [],
   "source": [
    "# Number of gates that we want to show\n",
    "ng = 1000\n",
    "\n",
    "# Original range (km) and zimuth (rad) of the data\n",
    "r = 1.0e-3 * sweep['range'][:ng]\n",
    "a = sweep['azimuth'] * np.pi / 180.0\n",
    "\n",
    "# Coordinates\n",
    "rr, aa = np.meshgrid(r, a)\n",
    "xx = rr * np.sin(aa)\n",
    "yy = rr * np.cos(aa)"
   ]
  },
  {
   "cell_type": "markdown",
   "metadata": {},
   "source": [
    "## Using `chart.showPPI()`"
   ]
  },
  {
   "cell_type": "code",
   "execution_count": null,
   "metadata": {},
   "outputs": [],
   "source": [
    "symbol = 'P'\n",
    "data = sweep['products'][symbol]['data'][:, :ng]\n",
    "_ = chart.showPPI(xx, yy, data, style=symbol)"
   ]
  },
  {
   "cell_type": "markdown",
   "metadata": {},
   "source": [
    "## Generating All Product Figures Inline Using `chart.showPPI()`"
   ]
  },
  {
   "cell_type": "code",
   "execution_count": null,
   "metadata": {
    "scrolled": false
   },
   "outputs": [],
   "source": [
    "# Loop through all products\n",
    "for key, product in sweep['products'].items():\n",
    "    symbol = product['symbol']\n",
    "    name = product['name']\n",
    "    unit = product['unit']\n",
    "    data = product['data'][:, 0:ng]\n",
    "\n",
    "    #ppi = chart.showPPI(xx, yy, data, title='{} - {} ({})'.format(symbol, name, unit), style=symbol)\n",
    "    _ = chart.showPPI(xx, yy, data, style=symbol)"
   ]
  },
  {
   "cell_type": "markdown",
   "metadata": {},
   "source": [
    "## Using `chart.Chart()`"
   ]
  },
  {
   "cell_type": "code",
   "execution_count": null,
   "metadata": {},
   "outputs": [],
   "source": [
    "symbol = 'Z'\n",
    "data = sweep['products'][symbol]['data'][:, :ng]\n",
    "fig = chart.Chart(a, r, data, style=symbol)"
   ]
  },
  {
   "cell_type": "markdown",
   "metadata": {},
   "source": [
    "## Generating All Product Figures Off-Screen and Saving PNGs Using `chart.Chart()`"
   ]
  },
  {
   "cell_type": "code",
   "execution_count": null,
   "metadata": {},
   "outputs": [],
   "source": [
    "for key, product in sweep['products'].items():\n",
    "    symbol = product['symbol']\n",
    "    name = product['name']\n",
    "    unit = product['unit']\n",
    "    data = product['data'][:, 0:ng]\n",
    "    # Set figure with new data and symbol\n",
    "    fig.set_data(data, style=symbol)\n",
    "    fig.savefig('{}/{}.png'.format(folder, symbol))"
   ]
  },
  {
   "cell_type": "markdown",
   "metadata": {},
   "source": [
    "## Performance Measurements"
   ]
  },
  {
   "cell_type": "code",
   "execution_count": null,
   "metadata": {},
   "outputs": [],
   "source": [
    "symbol = 'P'\n",
    "data = sweep['products'][symbol]['data'][:, :ng]"
   ]
  },
  {
   "cell_type": "code",
   "execution_count": null,
   "metadata": {},
   "outputs": [],
   "source": [
    "s = time.time()\n",
    "fig = chart.Chart(a, r, data, style=symbol)\n",
    "e = time.time()\n",
    "print(e - s)"
   ]
  },
  {
   "cell_type": "code",
   "execution_count": null,
   "metadata": {},
   "outputs": [],
   "source": [
    "s = time.time()\n",
    "ppi = chart.showPPI(xx, yy, data, style=symbol)\n",
    "e = time.time()\n",
    "print(e - s)"
   ]
  },
  {
   "cell_type": "code",
   "execution_count": null,
   "metadata": {},
   "outputs": [],
   "source": [
    "s = time.time()\n",
    "fig.set_data(data, style=symbol)\n",
    "e = time.time()\n",
    "print(e - s)\n",
    "fig.fig"
   ]
  },
  {
   "cell_type": "code",
   "execution_count": null,
   "metadata": {},
   "outputs": [],
   "source": []
  }
 ],
 "metadata": {
  "kernelspec": {
   "display_name": "Python 3",
   "language": "python",
   "name": "python3"
  },
  "language_info": {
   "codemirror_mode": {
    "name": "ipython",
    "version": 3
   },
   "file_extension": ".py",
   "mimetype": "text/x-python",
   "name": "python",
   "nbconvert_exporter": "python",
   "pygments_lexer": "ipython3",
   "version": "3.6.5"
  }
 },
 "nbformat": 4,
 "nbformat_minor": 2
}
