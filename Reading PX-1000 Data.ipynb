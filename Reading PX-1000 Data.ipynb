{
 "cells": [
  {
   "cell_type": "code",
   "execution_count": null,
   "metadata": {},
   "outputs": [],
   "source": [
    "%matplotlib inline"
   ]
  },
  {
   "cell_type": "code",
   "execution_count": null,
   "metadata": {},
   "outputs": [],
   "source": [
    "import os\n",
    "import sys\n",
    "import numpy as np\n",
    "import matplotlib\n",
    "\n",
    "if not sys.version_info.major is 3:\n",
    "    print('PyRadarKit requires Python 3')\n",
    "    raise"
   ]
  },
  {
   "cell_type": "code",
   "execution_count": null,
   "metadata": {},
   "outputs": [],
   "source": [
    "import chart\n",
    "import radarkit"
   ]
  },
  {
   "cell_type": "code",
   "execution_count": null,
   "metadata": {},
   "outputs": [],
   "source": [
    "matplotlib.rcParams['font.family'] = 'serif'\n",
    "matplotlib.rcParams['font.serif'] = ['Arial']\n",
    "matplotlib.rcParams['font.sans-serif'] = ['System Font', 'Verdana', 'Arial']\n",
    "matplotlib.rc('text', usetex=False)"
   ]
  },
  {
   "cell_type": "code",
   "execution_count": null,
   "metadata": {},
   "outputs": [],
   "source": [
    "# Read a file\n",
    "sweep = radarkit.read('/Users/boonleng/Downloads/PX-20170220-050706-E2.4-Z.nc')"
   ]
  },
  {
   "cell_type": "code",
   "execution_count": null,
   "metadata": {},
   "outputs": [],
   "source": [
    "if sweep is None:\n",
    "    print('Unable to continue.\\n')\n",
    "    raise"
   ]
  },
  {
   "cell_type": "code",
   "execution_count": null,
   "metadata": {},
   "outputs": [],
   "source": [
    "# Number of gates that we want to show\n",
    "ng = 1000\n",
    "\n",
    "# Original range (km) and zimuth (rad) of the data\n",
    "r, a = np.meshgrid(1.0e-3 * sweep['range'][0:ng], sweep['azimuth'] * (np.pi / 180.0))\n",
    "\n",
    "# Cartesian coordinate of the radar cells\n",
    "x = r * np.sin(a)\n",
    "y = r * np.cos(a)"
   ]
  },
  {
   "cell_type": "code",
   "execution_count": null,
   "metadata": {
    "scrolled": true
   },
   "outputs": [],
   "source": [
    "# Plot them all\n",
    "\n",
    "# for key, product in sweep['products'].items():\n",
    "#     symbol = product['symbol']\n",
    "#     name = product['name']\n",
    "#     unit = product['unit']\n",
    "#     data = product['data'][:, 0:ng]\n",
    "\n",
    "#     #ppi = chart.showPPI(x, y, data, title='{} - {} ({})'.format(symbol, name, unit), symbol=symbol)\n",
    "#     _ = chart.showPPI(x, y, data, symbol=symbol)"
   ]
  },
  {
   "cell_type": "code",
   "execution_count": null,
   "metadata": {},
   "outputs": [],
   "source": [
    "# Plot them all\n",
    "product = sweep['products']['R']\n",
    "\n",
    "symbol = product['symbol']\n",
    "name = product['name']\n",
    "unit = product['unit']\n",
    "data = product['data']\n",
    "\n",
    "_ = chart.showPPI(x, y, data, symbol=symbol)"
   ]
  },
  {
   "cell_type": "code",
   "execution_count": null,
   "metadata": {},
   "outputs": [],
   "source": [
    "# import importlib\n",
    "# chart = importlib.reload(chart)\n",
    "_ = chart.showPPI(x, y, data, symbol=symbol)"
   ]
  }
 ],
 "metadata": {
  "kernelspec": {
   "display_name": "Python 3",
   "language": "python",
   "name": "python3"
  },
  "language_info": {
   "codemirror_mode": {
    "name": "ipython",
    "version": 3
   },
   "file_extension": ".py",
   "mimetype": "text/x-python",
   "name": "python",
   "nbconvert_exporter": "python",
   "pygments_lexer": "ipython3",
   "version": "3.6.5"
  }
 },
 "nbformat": 4,
 "nbformat_minor": 2
}
