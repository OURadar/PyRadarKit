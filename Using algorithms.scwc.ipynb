{
 "cells": [
  {
   "cell_type": "code",
   "execution_count": null,
   "metadata": {},
   "outputs": [],
   "source": [
    "%matplotlib inline"
   ]
  },
  {
   "cell_type": "code",
   "execution_count": null,
   "metadata": {},
   "outputs": [],
   "source": [
    "import numpy as np\n",
    "import radarkit\n",
    "import algorithms\n",
    "import chart\n",
    "import time"
   ]
  },
  {
   "cell_type": "code",
   "execution_count": null,
   "metadata": {},
   "outputs": [],
   "source": [
    "matplotlib.rcParams['font.family'] = 'serif'\n",
    "matplotlib.rcParams['font.serif'] = ['Arial', 'Helvetica']\n",
    "matplotlib.rcParams['font.sans-serif'] = ['System Font', 'Verdana', 'Arial']\n",
    "matplotlib.rcParams['figure.figsize'] = (8.89, 5)   # Change the size of plots\n",
    "matplotlib.rcParams['figure.dpi'] = 144"
   ]
  },
  {
   "cell_type": "code",
   "execution_count": null,
   "metadata": {},
   "outputs": [],
   "source": [
    "sweep = radarkit.read('/Users/boonleng/Downloads/PX-20170220-050706-E2.4-Z.nc')\n",
    "\n",
    "z = sweep['moments'][0]['data']\n",
    "p = sweep['moments'][4]['data']\n",
    "r = sweep['moments'][5]['data']"
   ]
  },
  {
   "cell_type": "code",
   "execution_count": null,
   "metadata": {},
   "outputs": [],
   "source": [
    "# Undo range correction and the ZCal in DSP to estimate the SNR\n",
    "rr = 1.0e-3 * (np.arange(sweep['gateCount']) + 0.5) * sweep['gateSizeMeters']\n",
    "snr = z - 20.0 * np.log10(rr) + 23\n",
    "\n",
    "# Transition gate at 10.5 km at the given spacing\n",
    "downSamplingRatio = int(sweep['gateSizeMeters'] / 30.0)\n",
    "g = int((69.0e-6 * 3.0e8 * 0.5) / 30.0) + 5\n",
    "g = int((g + downSamplingRatio - 1) / downSamplingRatio)\n",
    "\n",
    "print(g)\n",
    "\n",
    "z_off = 10.0 * np.log10(1.5 / 67)\n",
    "snr[:, :g] = snr[:, :g] + z_off\n",
    "\n",
    "# PhiDP calibration so that the transition is smooth and PhiDP starts ~ 0 deg\n",
    "p[:, :g] = p[:, :g] + 40;\n",
    "p[:, g:] = p[:, g:] + 44;"
   ]
  },
  {
   "cell_type": "code",
   "execution_count": null,
   "metadata": {},
   "outputs": [],
   "source": [
    "gateSpacing = 1.0e-3 * sweep['gateSizeMeters']"
   ]
  },
  {
   "cell_type": "code",
   "execution_count": null,
   "metadata": {},
   "outputs": [],
   "source": [
    "s = time.time()\n",
    "zc = algorithms.scwc(snr, z, p, r, gate_spacing=gateSpacing)\n",
    "e = time.time()\n",
    "print(e - s)"
   ]
  },
  {
   "cell_type": "code",
   "execution_count": null,
   "metadata": {},
   "outputs": [],
   "source": [
    "# Original range (km) and zimuth (rad) of the data\n",
    "r, a = np.meshgrid(1.0e-3 * sweep['range'], sweep['azimuth'] * (np.pi / 180.0))\n",
    "\n",
    "# Cartesian coordinate of the radar cells\n",
    "x = r * np.sin(a)\n",
    "y = r * np.cos(a)\n",
    "\n",
    "_ = chart.showPPI(x, y, zc, title='Corrected Reflectivity', maxrange=50.0)"
   ]
  },
  {
   "cell_type": "code",
   "execution_count": null,
   "metadata": {},
   "outputs": [],
   "source": []
  }
 ],
 "metadata": {
  "kernelspec": {
   "display_name": "Python 3",
   "language": "python",
   "name": "python3"
  },
  "language_info": {
   "codemirror_mode": {
    "name": "ipython",
    "version": 3
   },
   "file_extension": ".py",
   "mimetype": "text/x-python",
   "name": "python",
   "nbconvert_exporter": "python",
   "pygments_lexer": "ipython3",
   "version": "3.6.5"
  }
 },
 "nbformat": 4,
 "nbformat_minor": 2
}
