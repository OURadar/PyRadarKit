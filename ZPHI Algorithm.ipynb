{
 "cells": [
  {
   "cell_type": "code",
   "execution_count": null,
   "metadata": {},
   "outputs": [],
   "source": [
    "%matplotlib inline"
   ]
  },
  {
   "cell_type": "code",
   "execution_count": null,
   "metadata": {},
   "outputs": [],
   "source": [
    "import sys\n",
    "import numpy as np\n",
    "import scipy as sp\n",
    "import scipy.signal\n",
    "import radarkit\n",
    "import chart\n",
    "import matplotlib\n",
    "import matplotlib.pyplot as plt\n",
    "import time"
   ]
  },
  {
   "cell_type": "code",
   "execution_count": null,
   "metadata": {},
   "outputs": [],
   "source": [
    "matplotlib.rcParams['font.family'] = 'serif'\n",
    "matplotlib.rcParams['font.serif'] = ['Arial', 'Helvetica']\n",
    "matplotlib.rcParams['font.sans-serif'] = ['System Font', 'Verdana', 'Arial']\n",
    "matplotlib.rcParams['figure.figsize'] = (8.89, 5)   # Change the size of plots\n",
    "matplotlib.rcParams['figure.dpi'] = 144"
   ]
  },
  {
   "cell_type": "code",
   "execution_count": null,
   "metadata": {},
   "outputs": [],
   "source": [
    "sweep = radarkit.read('/Users/boonleng/Downloads/PX-20170220-050706-E2.4-Z.nc')\n",
    "\n",
    "z = sweep['products']['Z']['data']\n",
    "d = sweep['products']['D']['data']\n",
    "p = sweep['products']['P']['data']\n",
    "r = sweep['products']['R']['data']"
   ]
  },
  {
   "cell_type": "code",
   "execution_count": null,
   "metadata": {},
   "outputs": [],
   "source": [
    "alpha = 0.32        # Typical value found from SCWC\n",
    "beta = 0.455        # Typical value fround from SCWC\n",
    "b = 1.02            # The b factor, 1.02 for X-band"
   ]
  },
  {
   "cell_type": "markdown",
   "metadata": {},
   "source": [
    "## Calibration / Data Extraction"
   ]
  },
  {
   "cell_type": "code",
   "execution_count": null,
   "metadata": {},
   "outputs": [],
   "source": [
    "rayCount = z.shape[0]\n",
    "gateCount = z.shape[1]\n",
    "gateSpacing = 1.0e-3 * sweep['gateSizeMeters']\n",
    "downSamplingRatio = int(sweep['gateSizeMeters'] / 30.0)\n",
    "\n",
    "# Undo range correction and the ZCal in DSP to estimate the SNR\n",
    "rr = 1.0e-3 * (np.arange(sweep['gateCount']) + 0.5) * sweep['gateSizeMeters']\n",
    "snr = z - 20.0 * np.log10(rr) + 23\n",
    "\n",
    "# Transition gate at 10.5 km at the given spacing\n",
    "g = int((69.0e-6 * 3.0e8 * 0.5) / 30.0) + 5\n",
    "g = int((g + downSamplingRatio - 1) / downSamplingRatio)\n",
    "\n",
    "print(g)\n",
    "\n",
    "z_off = 10.0 * np.log10(1.5 / 67)\n",
    "snr[:, :g] = snr[:, :g] + z_off\n",
    "\n",
    "# PhiDP calibration so that the transition is smooth and PhiDP starts ~ 0 deg\n",
    "p[:, :g] = p[:, :g] + 40;\n",
    "p[:, g:] = p[:, g:] + 44;"
   ]
  },
  {
   "cell_type": "code",
   "execution_count": null,
   "metadata": {},
   "outputs": [],
   "source": [
    "plt.figure()\n",
    "\n",
    "plt.subplot(121)\n",
    "_ = plt.plot(snr.T)\n",
    "plt.title('Estimated SNR')\n",
    "\n",
    "plt.subplot(122)\n",
    "plt.imshow(snr)\n",
    "plt.clim(-10, 60)\n",
    "plt.colorbar(orientation='horizontal')\n",
    "_ = plt.title('Estimated SNR')"
   ]
  },
  {
   "cell_type": "code",
   "execution_count": null,
   "metadata": {},
   "outputs": [],
   "source": [
    "# Make a copy of PhiDP\n",
    "pp = np.copy(p)\n",
    "\n",
    "# Set PhiDP < 0 to 0 (no correction)\n",
    "pp[np.nan_to_num(pp) < 0.0] = 0.0\n",
    "\n",
    "# Attenuation\n",
    "az = alpha * pp ** b\n",
    "ad = beta / alpha * az\n",
    "\n",
    "# Correction\n",
    "zc = z + az\n",
    "dc = d + ad"
   ]
  },
  {
   "cell_type": "code",
   "execution_count": null,
   "metadata": {},
   "outputs": [],
   "source": [
    "# Original range (km) and zimuth (rad) of the data\n",
    "rr = 1.0e-3 * sweep['range']\n",
    "aa = sweep['azimuth'] * (np.pi / 180.0)\n",
    "\n",
    "# Plot using chart.Chart()\n",
    "_ = chart.Chart(aa, rr, z, style='Z')\n",
    "_ = chart.Chart(aa, rr, zc, style='Z', title='Corrected Reflectivity (dBZ)')"
   ]
  },
  {
   "cell_type": "code",
   "execution_count": null,
   "metadata": {},
   "outputs": [],
   "source": []
  }
 ],
 "metadata": {
  "kernelspec": {
   "display_name": "Python 3",
   "language": "python",
   "name": "python3"
  },
  "language_info": {
   "codemirror_mode": {
    "name": "ipython",
    "version": 3
   },
   "file_extension": ".py",
   "mimetype": "text/x-python",
   "name": "python",
   "nbconvert_exporter": "python",
   "pygments_lexer": "ipython3",
   "version": "3.6.5"
  }
 },
 "nbformat": 4,
 "nbformat_minor": 2
}
